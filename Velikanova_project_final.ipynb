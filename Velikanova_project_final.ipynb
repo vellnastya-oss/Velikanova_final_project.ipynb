{
 "cells": [
  {
   "cell_type": "code",
   "execution_count": 19,
   "id": "fe403e11-2110-4039-a504-4dc588002b10",
   "metadata": {},
   "outputs": [
    {
     "name": "stdout",
     "output_type": "stream",
     "text": [
      "Requirement already satisfied: kagglehub in /opt/anaconda3/lib/python3.12/site-packages (0.3.13)\n",
      "Requirement already satisfied: packaging in /opt/anaconda3/lib/python3.12/site-packages (from kagglehub) (25.0)\n",
      "Requirement already satisfied: pyyaml in /opt/anaconda3/lib/python3.12/site-packages (from kagglehub) (6.0.1)\n",
      "Requirement already satisfied: requests in /opt/anaconda3/lib/python3.12/site-packages (from kagglehub) (2.32.2)\n",
      "Requirement already satisfied: tqdm in /opt/anaconda3/lib/python3.12/site-packages (from kagglehub) (4.66.4)\n",
      "Requirement already satisfied: charset-normalizer<4,>=2 in /opt/anaconda3/lib/python3.12/site-packages (from requests->kagglehub) (2.0.4)\n",
      "Requirement already satisfied: idna<4,>=2.5 in /opt/anaconda3/lib/python3.12/site-packages (from requests->kagglehub) (2.10)\n",
      "Requirement already satisfied: urllib3<3,>=1.21.1 in /opt/anaconda3/lib/python3.12/site-packages (from requests->kagglehub) (2.2.2)\n",
      "Requirement already satisfied: certifi>=2017.4.17 in /opt/anaconda3/lib/python3.12/site-packages (from requests->kagglehub) (2025.8.3)\n",
      "Note: you may need to restart the kernel to use updated packages.\n"
     ]
    }
   ],
   "source": [
    "pip install kagglehub"
   ]
  },
  {
   "cell_type": "markdown",
   "id": "d430ee7a-5e0b-4d6d-bc3b-2cdeeb51aed1",
   "metadata": {},
   "source": [
    "## Аннотация\n",
    "\n",
    "Цель работы — спрогнозировать 120-дневный LTV клиента интернет-магазина (EV = вероятность покупки × ожидаемая сумма) и разложить базу по управляемым сегментам для маркетинга. Используем исторические заказы до отсечки T, удерживаем причинность (train ≤ T, val ∈ (T, T+H]), H = 120 дней и буфером на доставку. \n",
    "\n",
    "Задачи: (1) Сбор признаков на уровне клиента, (2) двухстадийный прогноз LTV (классификация: вероятность покупки + регрессия суммы), (3) временная кросс-валидация(4 фолда), (4) гибридная сегментация (rules + K-Means) и бизнес-рекомендации."
   ]
  },
  {
   "cell_type": "code",
   "execution_count": 1,
   "id": "9f673084-9515-4c25-854d-94839da182a4",
   "metadata": {},
   "outputs": [],
   "source": [
    "import os\n",
    "import pandas as pd\n",
    "import kagglehub\n",
    "from datetime import timedelta\n",
    "import numpy as np\n",
    "from sklearn.preprocessing import StandardScaler\n",
    "from sklearn.cluster import KMeans\n",
    "from sklearn.linear_model import LogisticRegression\n",
    "from sklearn.metrics import roc_auc_score, average_precision_score\n",
    "from sklearn.calibration import CalibratedClassifierCV\n",
    "import matplotlib.pyplot as plt\n",
    "from sklearn.linear_model import LogisticRegression, LinearRegression\n",
    "from sklearn.metrics import (\n",
    "    roc_auc_score, average_precision_score,\n",
    "    mean_absolute_error, root_mean_squared_error\n",
    ")"
   ]
  },
  {
   "cell_type": "markdown",
   "id": "1d1eb2a1-e398-4fea-bf68-ab9da44ffc1f",
   "metadata": {},
   "source": [
    "## Описание датасета\n",
    "В рамках анализа в работе используется датасет Olist (Brazilian e-commerce). Olist — бразильская платформа для малого и среднего бизнеса, которая агрегирует продавцов и выводит их товары на крупные маркетплейсы (модель marketplace-as-a-service). Продавцы подключаются к Olist, а заказы, оплата, логистика и пост-продажный сервис проходят через единую инфраструктуру Olist. Публичный датасет на Kaggle — это обезличенный дамп заказов Olist Store за ~2 года, предназначенный для академических и продуктовых исследований.\n",
    "\n",
    "Состав датасета (основные таблицы)\n",
    "\n",
    "orders — заказы (статус, метки времени: покупка/апрув/отгрузка/доставка/ETA). ~99,4k строк.\n",
    "\n",
    "order_items — позиции в заказах (товар, продавец, цена, freight_value). Несколько строк на заказ.\n",
    "\n",
    "order_payments — платежи (тип, число платежей, сумма). Возможны несколько платежей на один заказ.\n",
    "\n",
    "order_reviews — отзывы (оценка 1–5, дата создания/ответа, опциональный текст).\n",
    "\n",
    "customers — покупатели (внутренний customer_id, устойчивый customer_unique_id, город/штат, индекс-префикс).\n",
    "\n",
    "products — товары (габариты, вес, категория) + product_category_name_translation (EN-переводы).\n",
    "\n",
    "sellers — продавцы (город/штат).\n",
    "\n",
    "geolocation — справочник координат по индексам (для гео-аналитики)."
   ]
  },
  {
   "cell_type": "markdown",
   "id": "2a657226-845b-4a56-9ee4-edb2d4451785",
   "metadata": {},
   "source": [
    "## Загрузка датасета\n",
    "Загрузим датасеты brazilian-ecommerce для анализа из внешнего источника данных"
   ]
  },
  {
   "cell_type": "code",
   "execution_count": 3,
   "id": "2c138ff1-b77e-4877-8e3f-0ee9b83e56b5",
   "metadata": {},
   "outputs": [
    {
     "name": "stdout",
     "output_type": "stream",
     "text": [
      "Path to dataset files: /Users/anastasiavelikanova/.cache/kagglehub/datasets/olistbr/brazilian-ecommerce/versions/2\n"
     ]
    }
   ],
   "source": [
    "path = kagglehub.dataset_download(\"olistbr/brazilian-ecommerce\")\n",
    "\n",
    "print(\"Path to dataset files:\", path)"
   ]
  },
  {
   "cell_type": "code",
   "execution_count": 5,
   "id": "ffe8f556-bab2-4662-80cf-ed59b1d2f825",
   "metadata": {},
   "outputs": [
    {
     "name": "stdout",
     "output_type": "stream",
     "text": [
      "['olist_sellers_dataset.csv', 'product_category_name_translation.csv', 'olist_orders_dataset.csv', 'olist_order_items_dataset.csv', 'olist_customers_dataset.csv', 'olist_geolocation_dataset.csv', 'olist_order_payments_dataset.csv', 'olist_order_reviews_dataset.csv', 'olist_products_dataset.csv']\n"
     ]
    }
   ],
   "source": [
    "# путь к папке с датасетом\n",
    "path = \"/Users/anastasiavelikanova/.cache/kagglehub/datasets/olistbr/brazilian-ecommerce/versions/2\"\n",
    "\n",
    "# посмотрим список файлов\n",
    "print(os.listdir(path))"
   ]
  },
  {
   "cell_type": "markdown",
   "id": "aecf14d9-2695-41f1-bfe5-e46f7b2395c0",
   "metadata": {},
   "source": [
    "Для дальнейшего анализа и расчета LTV мне понадобятся данные о заказах, платежах, клиентах, отзывах, а также товарах. \n",
    "olist_orders_dataset.csv → заказы\n",
    "olist_order_payments_dataset.csv → платежи\n",
    "olist_customers_dataset.csv → клиенты\n",
    "olist_order_reviews_dataset.csv → отзывы\n",
    "olist_order_items_dataset.csv → для категорий товаров"
   ]
  },
  {
   "cell_type": "markdown",
   "id": "bf76834b-7966-41a4-b2a0-496a32cfb399",
   "metadata": {},
   "source": [
    "Загрузим необходимые файлы для дальнейшего анализа и проверим их на наличие пропусков. Проанализируем структуру, типы данных в датасете и их особенности."
   ]
  },
  {
   "cell_type": "code",
   "execution_count": 7,
   "id": "14db35e3-d1be-40b7-b187-f8ba78e68b4b",
   "metadata": {},
   "outputs": [
    {
     "name": "stdout",
     "output_type": "stream",
     "text": [
      "\n",
      "==== ORDERS ====\n",
      "<class 'pandas.core.frame.DataFrame'>\n",
      "RangeIndex: 99441 entries, 0 to 99440\n",
      "Data columns (total 8 columns):\n",
      " #   Column                         Non-Null Count  Dtype \n",
      "---  ------                         --------------  ----- \n",
      " 0   order_id                       99441 non-null  object\n",
      " 1   customer_id                    99441 non-null  object\n",
      " 2   order_status                   99441 non-null  object\n",
      " 3   order_purchase_timestamp       99441 non-null  object\n",
      " 4   order_approved_at              99281 non-null  object\n",
      " 5   order_delivered_carrier_date   97658 non-null  object\n",
      " 6   order_delivered_customer_date  96476 non-null  object\n",
      " 7   order_estimated_delivery_date  99441 non-null  object\n",
      "dtypes: object(8)\n",
      "memory usage: 6.1+ MB\n",
      "None \n",
      "\n",
      "order_id                            0\n",
      "customer_id                         0\n",
      "order_status                        0\n",
      "order_purchase_timestamp            0\n",
      "order_approved_at                 160\n",
      "order_delivered_carrier_date     1783\n",
      "order_delivered_customer_date    2965\n",
      "order_estimated_delivery_date       0\n",
      "dtype: int64 \n",
      "\n",
      "\n",
      "==== PAYMENTS ====\n",
      "<class 'pandas.core.frame.DataFrame'>\n",
      "RangeIndex: 103886 entries, 0 to 103885\n",
      "Data columns (total 5 columns):\n",
      " #   Column                Non-Null Count   Dtype  \n",
      "---  ------                --------------   -----  \n",
      " 0   order_id              103886 non-null  object \n",
      " 1   payment_sequential    103886 non-null  int64  \n",
      " 2   payment_type          103886 non-null  object \n",
      " 3   payment_installments  103886 non-null  int64  \n",
      " 4   payment_value         103886 non-null  float64\n",
      "dtypes: float64(1), int64(2), object(2)\n",
      "memory usage: 4.0+ MB\n",
      "None \n",
      "\n",
      "order_id                0\n",
      "payment_sequential      0\n",
      "payment_type            0\n",
      "payment_installments    0\n",
      "payment_value           0\n",
      "dtype: int64 \n",
      "\n",
      "\n",
      "==== CUSTOMERS ====\n",
      "<class 'pandas.core.frame.DataFrame'>\n",
      "RangeIndex: 99441 entries, 0 to 99440\n",
      "Data columns (total 5 columns):\n",
      " #   Column                    Non-Null Count  Dtype \n",
      "---  ------                    --------------  ----- \n",
      " 0   customer_id               99441 non-null  object\n",
      " 1   customer_unique_id        99441 non-null  object\n",
      " 2   customer_zip_code_prefix  99441 non-null  int64 \n",
      " 3   customer_city             99441 non-null  object\n",
      " 4   customer_state            99441 non-null  object\n",
      "dtypes: int64(1), object(4)\n",
      "memory usage: 3.8+ MB\n",
      "None \n",
      "\n",
      "customer_id                 0\n",
      "customer_unique_id          0\n",
      "customer_zip_code_prefix    0\n",
      "customer_city               0\n",
      "customer_state              0\n",
      "dtype: int64 \n",
      "\n",
      "\n",
      "==== REVIEWS ====\n",
      "<class 'pandas.core.frame.DataFrame'>\n",
      "RangeIndex: 99224 entries, 0 to 99223\n",
      "Data columns (total 7 columns):\n",
      " #   Column                   Non-Null Count  Dtype \n",
      "---  ------                   --------------  ----- \n",
      " 0   review_id                99224 non-null  object\n",
      " 1   order_id                 99224 non-null  object\n",
      " 2   review_score             99224 non-null  int64 \n",
      " 3   review_comment_title     11568 non-null  object\n",
      " 4   review_comment_message   40977 non-null  object\n",
      " 5   review_creation_date     99224 non-null  object\n",
      " 6   review_answer_timestamp  99224 non-null  object\n",
      "dtypes: int64(1), object(6)\n",
      "memory usage: 5.3+ MB\n",
      "None \n",
      "\n",
      "review_id                      0\n",
      "order_id                       0\n",
      "review_score                   0\n",
      "review_comment_title       87656\n",
      "review_comment_message     58247\n",
      "review_creation_date           0\n",
      "review_answer_timestamp        0\n",
      "dtype: int64 \n",
      "\n",
      "\n",
      "==== ITEMS ====\n",
      "<class 'pandas.core.frame.DataFrame'>\n",
      "RangeIndex: 112650 entries, 0 to 112649\n",
      "Data columns (total 7 columns):\n",
      " #   Column               Non-Null Count   Dtype  \n",
      "---  ------               --------------   -----  \n",
      " 0   order_id             112650 non-null  object \n",
      " 1   order_item_id        112650 non-null  int64  \n",
      " 2   product_id           112650 non-null  object \n",
      " 3   seller_id            112650 non-null  object \n",
      " 4   shipping_limit_date  112650 non-null  object \n",
      " 5   price                112650 non-null  float64\n",
      " 6   freight_value        112650 non-null  float64\n",
      "dtypes: float64(2), int64(1), object(4)\n",
      "memory usage: 6.0+ MB\n",
      "None \n",
      "\n",
      "order_id               0\n",
      "order_item_id          0\n",
      "product_id             0\n",
      "seller_id              0\n",
      "shipping_limit_date    0\n",
      "price                  0\n",
      "freight_value          0\n",
      "dtype: int64 \n",
      "\n"
     ]
    }
   ],
   "source": [
    "path = \"/Users/anastasiavelikanova/.cache/kagglehub/datasets/olistbr/brazilian-ecommerce/versions/2\"\n",
    "\n",
    "# Загружаем каждый файл отдельно\n",
    "orders    = pd.read_csv(os.path.join(path, \"olist_orders_dataset.csv\"))\n",
    "payments  = pd.read_csv(os.path.join(path, \"olist_order_payments_dataset.csv\"))\n",
    "customers = pd.read_csv(os.path.join(path, \"olist_customers_dataset.csv\"))\n",
    "reviews   = pd.read_csv(os.path.join(path, \"olist_order_reviews_dataset.csv\"))\n",
    "items     = pd.read_csv(os.path.join(path, \"olist_order_items_dataset.csv\"))\n",
    "\n",
    "# Смотрим краткую информацию по каждому\n",
    "print(\"\\n==== ORDERS ====\")\n",
    "print(orders.info(), \"\\n\")\n",
    "print(orders.isna().sum(), \"\\n\")\n",
    "\n",
    "print(\"\\n==== PAYMENTS ====\")\n",
    "print(payments.info(), \"\\n\")\n",
    "print(payments.isna().sum(), \"\\n\")\n",
    "\n",
    "print(\"\\n==== CUSTOMERS ====\")\n",
    "print(customers.info(), \"\\n\")\n",
    "print(customers.isna().sum(), \"\\n\")\n",
    "\n",
    "print(\"\\n==== REVIEWS ====\")\n",
    "print(reviews.info(), \"\\n\")\n",
    "print(reviews.isna().sum(), \"\\n\")\n",
    "\n",
    "print(\"\\n==== ITEMS ====\")\n",
    "print(items.info(), \"\\n\")\n",
    "print(items.isna().sum(), \"\\n\")"
   ]
  },
  {
   "cell_type": "markdown",
   "id": "1fc47c56-e267-40d7-ac51-1311e2bdc14c",
   "metadata": {},
   "source": [
    "## Предобратка датасета"
   ]
  },
  {
   "cell_type": "markdown",
   "id": "4d7a60ba-67ce-4a15-b003-918f8ceb8440",
   "metadata": {},
   "source": [
    "Для начала подготовим к дальнейшему анализу таблицу orders. \n",
    "Переведем столбцы, связанные с датой, из типа данных object в верный формат datetime"
   ]
  },
  {
   "cell_type": "code",
   "execution_count": 9,
   "id": "bb5c795d-bbe7-4dc8-9d1a-2637cc6784df",
   "metadata": {},
   "outputs": [
    {
     "data": {
      "text/html": [
       "<div>\n",
       "<style scoped>\n",
       "    .dataframe tbody tr th:only-of-type {\n",
       "        vertical-align: middle;\n",
       "    }\n",
       "\n",
       "    .dataframe tbody tr th {\n",
       "        vertical-align: top;\n",
       "    }\n",
       "\n",
       "    .dataframe thead th {\n",
       "        text-align: right;\n",
       "    }\n",
       "</style>\n",
       "<table border=\"1\" class=\"dataframe\">\n",
       "  <thead>\n",
       "    <tr style=\"text-align: right;\">\n",
       "      <th></th>\n",
       "      <th>order_id</th>\n",
       "      <th>customer_id</th>\n",
       "      <th>order_status</th>\n",
       "      <th>order_purchase_timestamp</th>\n",
       "      <th>order_approved_at</th>\n",
       "      <th>order_delivered_carrier_date</th>\n",
       "      <th>order_delivered_customer_date</th>\n",
       "      <th>order_estimated_delivery_date</th>\n",
       "    </tr>\n",
       "  </thead>\n",
       "  <tbody>\n",
       "    <tr>\n",
       "      <th>0</th>\n",
       "      <td>e481f51cbdc54678b7cc49136f2d6af7</td>\n",
       "      <td>9ef432eb6251297304e76186b10a928d</td>\n",
       "      <td>delivered</td>\n",
       "      <td>2017-10-02 10:56:33</td>\n",
       "      <td>2017-10-02 11:07:15</td>\n",
       "      <td>2017-10-04 19:55:00</td>\n",
       "      <td>2017-10-10 21:25:13</td>\n",
       "      <td>2017-10-18 00:00:00</td>\n",
       "    </tr>\n",
       "    <tr>\n",
       "      <th>1</th>\n",
       "      <td>53cdb2fc8bc7dce0b6741e2150273451</td>\n",
       "      <td>b0830fb4747a6c6d20dea0b8c802d7ef</td>\n",
       "      <td>delivered</td>\n",
       "      <td>2018-07-24 20:41:37</td>\n",
       "      <td>2018-07-26 03:24:27</td>\n",
       "      <td>2018-07-26 14:31:00</td>\n",
       "      <td>2018-08-07 15:27:45</td>\n",
       "      <td>2018-08-13 00:00:00</td>\n",
       "    </tr>\n",
       "    <tr>\n",
       "      <th>2</th>\n",
       "      <td>47770eb9100c2d0c44946d9cf07ec65d</td>\n",
       "      <td>41ce2a54c0b03bf3443c3d931a367089</td>\n",
       "      <td>delivered</td>\n",
       "      <td>2018-08-08 08:38:49</td>\n",
       "      <td>2018-08-08 08:55:23</td>\n",
       "      <td>2018-08-08 13:50:00</td>\n",
       "      <td>2018-08-17 18:06:29</td>\n",
       "      <td>2018-09-04 00:00:00</td>\n",
       "    </tr>\n",
       "    <tr>\n",
       "      <th>3</th>\n",
       "      <td>949d5b44dbf5de918fe9c16f97b45f8a</td>\n",
       "      <td>f88197465ea7920adcdbec7375364d82</td>\n",
       "      <td>delivered</td>\n",
       "      <td>2017-11-18 19:28:06</td>\n",
       "      <td>2017-11-18 19:45:59</td>\n",
       "      <td>2017-11-22 13:39:59</td>\n",
       "      <td>2017-12-02 00:28:42</td>\n",
       "      <td>2017-12-15 00:00:00</td>\n",
       "    </tr>\n",
       "    <tr>\n",
       "      <th>4</th>\n",
       "      <td>ad21c59c0840e6cb83a9ceb5573f8159</td>\n",
       "      <td>8ab97904e6daea8866dbdbc4fb7aad2c</td>\n",
       "      <td>delivered</td>\n",
       "      <td>2018-02-13 21:18:39</td>\n",
       "      <td>2018-02-13 22:20:29</td>\n",
       "      <td>2018-02-14 19:46:34</td>\n",
       "      <td>2018-02-16 18:17:02</td>\n",
       "      <td>2018-02-26 00:00:00</td>\n",
       "    </tr>\n",
       "  </tbody>\n",
       "</table>\n",
       "</div>"
      ],
      "text/plain": [
       "                           order_id                       customer_id  \\\n",
       "0  e481f51cbdc54678b7cc49136f2d6af7  9ef432eb6251297304e76186b10a928d   \n",
       "1  53cdb2fc8bc7dce0b6741e2150273451  b0830fb4747a6c6d20dea0b8c802d7ef   \n",
       "2  47770eb9100c2d0c44946d9cf07ec65d  41ce2a54c0b03bf3443c3d931a367089   \n",
       "3  949d5b44dbf5de918fe9c16f97b45f8a  f88197465ea7920adcdbec7375364d82   \n",
       "4  ad21c59c0840e6cb83a9ceb5573f8159  8ab97904e6daea8866dbdbc4fb7aad2c   \n",
       "\n",
       "  order_status order_purchase_timestamp    order_approved_at  \\\n",
       "0    delivered      2017-10-02 10:56:33  2017-10-02 11:07:15   \n",
       "1    delivered      2018-07-24 20:41:37  2018-07-26 03:24:27   \n",
       "2    delivered      2018-08-08 08:38:49  2018-08-08 08:55:23   \n",
       "3    delivered      2017-11-18 19:28:06  2017-11-18 19:45:59   \n",
       "4    delivered      2018-02-13 21:18:39  2018-02-13 22:20:29   \n",
       "\n",
       "  order_delivered_carrier_date order_delivered_customer_date  \\\n",
       "0          2017-10-04 19:55:00           2017-10-10 21:25:13   \n",
       "1          2018-07-26 14:31:00           2018-08-07 15:27:45   \n",
       "2          2018-08-08 13:50:00           2018-08-17 18:06:29   \n",
       "3          2017-11-22 13:39:59           2017-12-02 00:28:42   \n",
       "4          2018-02-14 19:46:34           2018-02-16 18:17:02   \n",
       "\n",
       "  order_estimated_delivery_date  \n",
       "0           2017-10-18 00:00:00  \n",
       "1           2018-08-13 00:00:00  \n",
       "2           2018-09-04 00:00:00  \n",
       "3           2017-12-15 00:00:00  \n",
       "4           2018-02-26 00:00:00  "
      ]
     },
     "execution_count": 9,
     "metadata": {},
     "output_type": "execute_result"
    }
   ],
   "source": [
    "orders.head()"
   ]
  },
  {
   "cell_type": "code",
   "execution_count": 11,
   "id": "65c172d2-9c38-42ce-b7cf-670690678c78",
   "metadata": {},
   "outputs": [],
   "source": [
    "#Перевод столбцов в формат даты\n",
    "orders[\"order_purchase_timestamp\"] = pd.to_datetime(orders[\"order_purchase_timestamp\"])\n",
    "orders[\"order_approved_at\"] = pd.to_datetime(orders[\"order_approved_at\"])\n",
    "orders[\"order_delivered_carrier_date\"] = pd.to_datetime(orders[\"order_delivered_carrier_date\"])\n",
    "orders[\"order_delivered_customer_date\"] = pd.to_datetime(orders[\"order_delivered_customer_date\"])\n",
    "orders[\"order_estimated_delivery_date\"] = pd.to_datetime(orders[\"order_estimated_delivery_date\"])"
   ]
  },
  {
   "cell_type": "markdown",
   "id": "be92ecfb-4a5b-4f99-8dac-a57142636eea",
   "metadata": {},
   "source": [
    "В таблице с заказами есть пропуски в датах: order_approved_at, order_delivered_carrier_date, order_delivered_customer_date. Мы не будем удалять пропуски, так как они несут важное значение для дальнейшего анализа. \n",
    "order_approved_at → NaN = заказ был оформлен, но не прошёл подтверждение → значит, фактической выручки от него нет.\n",
    "order_delivered_carrier_date → NaN = продавец/склад не передал заказ перевозчику → заказ завис.\n",
    "order_delivered_customer_date → NaN = клиент не получил заказ → доход не засчитан.\n",
    "Это важная бизнес-информация: одни клиенты стабильно завершают заказы, другие часто бросают их на полпути."
   ]
  },
  {
   "cell_type": "code",
   "execution_count": 13,
   "id": "74c62566-a585-4ecd-aa9b-c83f6bc56c5f",
   "metadata": {},
   "outputs": [
    {
     "name": "stdout",
     "output_type": "stream",
     "text": [
      "0\n"
     ]
    }
   ],
   "source": [
    "print(orders[\"order_id\"].duplicated().sum())"
   ]
  },
  {
   "cell_type": "markdown",
   "id": "b6f5a9ca-7357-4a6a-82b0-a87db4945d44",
   "metadata": {},
   "source": [
    "Теперь произведем необходимые модификации с таблицей payments. По информации из датасетов выше, в таблице orders содержится 99 441 строк, когда как в таблице payments содержится 103 886 строк. То есть, предположительно, один заказ может быть оплачен несколькими платежами "
   ]
  },
  {
   "cell_type": "code",
   "execution_count": 15,
   "id": "458e94f6-7301-45ab-b80f-49fc92697f3f",
   "metadata": {},
   "outputs": [
    {
     "name": "stdout",
     "output_type": "stream",
     "text": [
      "Всего строк в payments: 103886\n",
      "Уникальных order_id: 99440\n",
      "Предположительно повторяющихся order_id: 4446\n"
     ]
    }
   ],
   "source": [
    "print(\"Всего строк в payments:\", len(payments))\n",
    "print(\"Уникальных order_id:\", payments[\"order_id\"].nunique())\n",
    "print(\"Предположительно повторяющихся order_id:\", len(payments) - payments[\"order_id\"].nunique())"
   ]
  },
  {
   "cell_type": "code",
   "execution_count": 17,
   "id": "ff622f88-03ca-4827-a6b0-c9856414afea",
   "metadata": {},
   "outputs": [
    {
     "data": {
      "text/html": [
       "<div>\n",
       "<style scoped>\n",
       "    .dataframe tbody tr th:only-of-type {\n",
       "        vertical-align: middle;\n",
       "    }\n",
       "\n",
       "    .dataframe tbody tr th {\n",
       "        vertical-align: top;\n",
       "    }\n",
       "\n",
       "    .dataframe thead th {\n",
       "        text-align: right;\n",
       "    }\n",
       "</style>\n",
       "<table border=\"1\" class=\"dataframe\">\n",
       "  <thead>\n",
       "    <tr style=\"text-align: right;\">\n",
       "      <th></th>\n",
       "      <th>order_id</th>\n",
       "      <th>payment_sequential</th>\n",
       "      <th>payment_type</th>\n",
       "      <th>payment_installments</th>\n",
       "      <th>payment_value</th>\n",
       "    </tr>\n",
       "  </thead>\n",
       "  <tbody>\n",
       "    <tr>\n",
       "      <th>0</th>\n",
       "      <td>b81ef226f3fe1789b1e8b2acac839d17</td>\n",
       "      <td>1</td>\n",
       "      <td>credit_card</td>\n",
       "      <td>8</td>\n",
       "      <td>99.33</td>\n",
       "    </tr>\n",
       "    <tr>\n",
       "      <th>1</th>\n",
       "      <td>a9810da82917af2d9aefd1278f1dcfa0</td>\n",
       "      <td>1</td>\n",
       "      <td>credit_card</td>\n",
       "      <td>1</td>\n",
       "      <td>24.39</td>\n",
       "    </tr>\n",
       "    <tr>\n",
       "      <th>2</th>\n",
       "      <td>25e8ea4e93396b6fa0d3dd708e76c1bd</td>\n",
       "      <td>1</td>\n",
       "      <td>credit_card</td>\n",
       "      <td>1</td>\n",
       "      <td>65.71</td>\n",
       "    </tr>\n",
       "    <tr>\n",
       "      <th>3</th>\n",
       "      <td>ba78997921bbcdc1373bb41e913ab953</td>\n",
       "      <td>1</td>\n",
       "      <td>credit_card</td>\n",
       "      <td>8</td>\n",
       "      <td>107.78</td>\n",
       "    </tr>\n",
       "    <tr>\n",
       "      <th>4</th>\n",
       "      <td>42fdf880ba16b47b59251dd489d4441a</td>\n",
       "      <td>1</td>\n",
       "      <td>credit_card</td>\n",
       "      <td>2</td>\n",
       "      <td>128.45</td>\n",
       "    </tr>\n",
       "  </tbody>\n",
       "</table>\n",
       "</div>"
      ],
      "text/plain": [
       "                           order_id  payment_sequential payment_type  \\\n",
       "0  b81ef226f3fe1789b1e8b2acac839d17                   1  credit_card   \n",
       "1  a9810da82917af2d9aefd1278f1dcfa0                   1  credit_card   \n",
       "2  25e8ea4e93396b6fa0d3dd708e76c1bd                   1  credit_card   \n",
       "3  ba78997921bbcdc1373bb41e913ab953                   1  credit_card   \n",
       "4  42fdf880ba16b47b59251dd489d4441a                   1  credit_card   \n",
       "\n",
       "   payment_installments  payment_value  \n",
       "0                     8          99.33  \n",
       "1                     1          24.39  \n",
       "2                     1          65.71  \n",
       "3                     8         107.78  \n",
       "4                     2         128.45  "
      ]
     },
     "execution_count": 17,
     "metadata": {},
     "output_type": "execute_result"
    }
   ],
   "source": [
    "payments.head()"
   ]
  },
  {
   "cell_type": "markdown",
   "id": "3f1500c2-aa2a-47fb-b97c-b11ef9aa0dfe",
   "metadata": {},
   "source": [
    "Суммируем платежи по заказу, чтобы получить общую сумму заказа (order_total_payment)."
   ]
  },
  {
   "cell_type": "code",
   "execution_count": 19,
   "id": "b5144ea1-8ea1-4952-8684-1735c15782ff",
   "metadata": {},
   "outputs": [],
   "source": [
    "payments_agg = payments.groupby(\"order_id\", as_index=False)[\"payment_value\"].sum()\n",
    "payments_agg.rename(columns={\"payment_value\": \"order_total_payment\"}, inplace=True)"
   ]
  },
  {
   "cell_type": "code",
   "execution_count": 21,
   "id": "6eebde4b-b470-4deb-b713-02b2e231f793",
   "metadata": {},
   "outputs": [
    {
     "data": {
      "text/html": [
       "<div>\n",
       "<style scoped>\n",
       "    .dataframe tbody tr th:only-of-type {\n",
       "        vertical-align: middle;\n",
       "    }\n",
       "\n",
       "    .dataframe tbody tr th {\n",
       "        vertical-align: top;\n",
       "    }\n",
       "\n",
       "    .dataframe thead th {\n",
       "        text-align: right;\n",
       "    }\n",
       "</style>\n",
       "<table border=\"1\" class=\"dataframe\">\n",
       "  <thead>\n",
       "    <tr style=\"text-align: right;\">\n",
       "      <th></th>\n",
       "      <th>order_id</th>\n",
       "      <th>order_total_payment</th>\n",
       "    </tr>\n",
       "  </thead>\n",
       "  <tbody>\n",
       "    <tr>\n",
       "      <th>0</th>\n",
       "      <td>00010242fe8c5a6d1ba2dd792cb16214</td>\n",
       "      <td>72.19</td>\n",
       "    </tr>\n",
       "    <tr>\n",
       "      <th>1</th>\n",
       "      <td>00018f77f2f0320c557190d7a144bdd3</td>\n",
       "      <td>259.83</td>\n",
       "    </tr>\n",
       "    <tr>\n",
       "      <th>2</th>\n",
       "      <td>000229ec398224ef6ca0657da4fc703e</td>\n",
       "      <td>216.87</td>\n",
       "    </tr>\n",
       "    <tr>\n",
       "      <th>3</th>\n",
       "      <td>00024acbcdf0a6daa1e931b038114c75</td>\n",
       "      <td>25.78</td>\n",
       "    </tr>\n",
       "    <tr>\n",
       "      <th>4</th>\n",
       "      <td>00042b26cf59d7ce69dfabb4e55b4fd9</td>\n",
       "      <td>218.04</td>\n",
       "    </tr>\n",
       "    <tr>\n",
       "      <th>...</th>\n",
       "      <td>...</td>\n",
       "      <td>...</td>\n",
       "    </tr>\n",
       "    <tr>\n",
       "      <th>99435</th>\n",
       "      <td>fffc94f6ce00a00581880bf54a75a037</td>\n",
       "      <td>343.40</td>\n",
       "    </tr>\n",
       "    <tr>\n",
       "      <th>99436</th>\n",
       "      <td>fffcd46ef2263f404302a634eb57f7eb</td>\n",
       "      <td>386.53</td>\n",
       "    </tr>\n",
       "    <tr>\n",
       "      <th>99437</th>\n",
       "      <td>fffce4705a9662cd70adb13d4a31832d</td>\n",
       "      <td>116.85</td>\n",
       "    </tr>\n",
       "    <tr>\n",
       "      <th>99438</th>\n",
       "      <td>fffe18544ffabc95dfada21779c9644f</td>\n",
       "      <td>64.71</td>\n",
       "    </tr>\n",
       "    <tr>\n",
       "      <th>99439</th>\n",
       "      <td>fffe41c64501cc87c801fd61db3f6244</td>\n",
       "      <td>55.79</td>\n",
       "    </tr>\n",
       "  </tbody>\n",
       "</table>\n",
       "<p>99440 rows × 2 columns</p>\n",
       "</div>"
      ],
      "text/plain": [
       "                               order_id  order_total_payment\n",
       "0      00010242fe8c5a6d1ba2dd792cb16214                72.19\n",
       "1      00018f77f2f0320c557190d7a144bdd3               259.83\n",
       "2      000229ec398224ef6ca0657da4fc703e               216.87\n",
       "3      00024acbcdf0a6daa1e931b038114c75                25.78\n",
       "4      00042b26cf59d7ce69dfabb4e55b4fd9               218.04\n",
       "...                                 ...                  ...\n",
       "99435  fffc94f6ce00a00581880bf54a75a037               343.40\n",
       "99436  fffcd46ef2263f404302a634eb57f7eb               386.53\n",
       "99437  fffce4705a9662cd70adb13d4a31832d               116.85\n",
       "99438  fffe18544ffabc95dfada21779c9644f                64.71\n",
       "99439  fffe41c64501cc87c801fd61db3f6244                55.79\n",
       "\n",
       "[99440 rows x 2 columns]"
      ]
     },
     "execution_count": 21,
     "metadata": {},
     "output_type": "execute_result"
    }
   ],
   "source": [
    "payments_agg"
   ]
  },
  {
   "cell_type": "code",
   "execution_count": 23,
   "id": "e976df68-2103-4728-9da8-e34a016f3660",
   "metadata": {},
   "outputs": [
    {
     "name": "stdout",
     "output_type": "stream",
     "text": [
      "<class 'pandas.core.frame.DataFrame'>\n",
      "RangeIndex: 99440 entries, 0 to 99439\n",
      "Data columns (total 2 columns):\n",
      " #   Column               Non-Null Count  Dtype  \n",
      "---  ------               --------------  -----  \n",
      " 0   order_id             99440 non-null  object \n",
      " 1   order_total_payment  99440 non-null  float64\n",
      "dtypes: float64(1), object(1)\n",
      "memory usage: 1.5+ MB\n"
     ]
    }
   ],
   "source": [
    "payments_agg.info()"
   ]
  },
  {
   "cell_type": "code",
   "execution_count": null,
   "id": "fba4eb0a-4b0e-42f2-b269-a896d853ec9f",
   "metadata": {},
   "outputs": [],
   "source": [
    "Как мы видим, теперь количество строк в датасете payments после группировки равно количеству строк в датасете orders."
   ]
  },
  {
   "cell_type": "markdown",
   "id": "9529d53b-9bf3-4b58-a9cc-6860d922d6df",
   "metadata": {},
   "source": [
    "Далее рассмотрим датасет CUSTOMERS. \n",
    "В этом датасете нет пропусков, он правктически готов к анализу. Особенность этого датасета - customer_id уникален в таблице и используется в связке с датасетом ORDERS, а customer_unique_id может повторяться (если клиент делал несколько заказов)."
   ]
  },
  {
   "cell_type": "code",
   "execution_count": 25,
   "id": "934f0b32-f254-43d3-987e-821d440f4238",
   "metadata": {},
   "outputs": [
    {
     "data": {
      "text/html": [
       "<div>\n",
       "<style scoped>\n",
       "    .dataframe tbody tr th:only-of-type {\n",
       "        vertical-align: middle;\n",
       "    }\n",
       "\n",
       "    .dataframe tbody tr th {\n",
       "        vertical-align: top;\n",
       "    }\n",
       "\n",
       "    .dataframe thead th {\n",
       "        text-align: right;\n",
       "    }\n",
       "</style>\n",
       "<table border=\"1\" class=\"dataframe\">\n",
       "  <thead>\n",
       "    <tr style=\"text-align: right;\">\n",
       "      <th></th>\n",
       "      <th>customer_id</th>\n",
       "      <th>customer_unique_id</th>\n",
       "      <th>customer_zip_code_prefix</th>\n",
       "      <th>customer_city</th>\n",
       "      <th>customer_state</th>\n",
       "    </tr>\n",
       "  </thead>\n",
       "  <tbody>\n",
       "    <tr>\n",
       "      <th>0</th>\n",
       "      <td>06b8999e2fba1a1fbc88172c00ba8bc7</td>\n",
       "      <td>861eff4711a542e4b93843c6dd7febb0</td>\n",
       "      <td>14409</td>\n",
       "      <td>franca</td>\n",
       "      <td>SP</td>\n",
       "    </tr>\n",
       "    <tr>\n",
       "      <th>1</th>\n",
       "      <td>18955e83d337fd6b2def6b18a428ac77</td>\n",
       "      <td>290c77bc529b7ac935b93aa66c333dc3</td>\n",
       "      <td>9790</td>\n",
       "      <td>sao bernardo do campo</td>\n",
       "      <td>SP</td>\n",
       "    </tr>\n",
       "    <tr>\n",
       "      <th>2</th>\n",
       "      <td>4e7b3e00288586ebd08712fdd0374a03</td>\n",
       "      <td>060e732b5b29e8181a18229c7b0b2b5e</td>\n",
       "      <td>1151</td>\n",
       "      <td>sao paulo</td>\n",
       "      <td>SP</td>\n",
       "    </tr>\n",
       "    <tr>\n",
       "      <th>3</th>\n",
       "      <td>b2b6027bc5c5109e529d4dc6358b12c3</td>\n",
       "      <td>259dac757896d24d7702b9acbbff3f3c</td>\n",
       "      <td>8775</td>\n",
       "      <td>mogi das cruzes</td>\n",
       "      <td>SP</td>\n",
       "    </tr>\n",
       "    <tr>\n",
       "      <th>4</th>\n",
       "      <td>4f2d8ab171c80ec8364f7c12e35b23ad</td>\n",
       "      <td>345ecd01c38d18a9036ed96c73b8d066</td>\n",
       "      <td>13056</td>\n",
       "      <td>campinas</td>\n",
       "      <td>SP</td>\n",
       "    </tr>\n",
       "  </tbody>\n",
       "</table>\n",
       "</div>"
      ],
      "text/plain": [
       "                        customer_id                customer_unique_id  \\\n",
       "0  06b8999e2fba1a1fbc88172c00ba8bc7  861eff4711a542e4b93843c6dd7febb0   \n",
       "1  18955e83d337fd6b2def6b18a428ac77  290c77bc529b7ac935b93aa66c333dc3   \n",
       "2  4e7b3e00288586ebd08712fdd0374a03  060e732b5b29e8181a18229c7b0b2b5e   \n",
       "3  b2b6027bc5c5109e529d4dc6358b12c3  259dac757896d24d7702b9acbbff3f3c   \n",
       "4  4f2d8ab171c80ec8364f7c12e35b23ad  345ecd01c38d18a9036ed96c73b8d066   \n",
       "\n",
       "   customer_zip_code_prefix          customer_city customer_state  \n",
       "0                     14409                 franca             SP  \n",
       "1                      9790  sao bernardo do campo             SP  \n",
       "2                      1151              sao paulo             SP  \n",
       "3                      8775        mogi das cruzes             SP  \n",
       "4                     13056               campinas             SP  "
      ]
     },
     "execution_count": 25,
     "metadata": {},
     "output_type": "execute_result"
    }
   ],
   "source": [
    "customers.head()"
   ]
  },
  {
   "cell_type": "code",
   "execution_count": 27,
   "id": "11f089e7-9259-418a-a349-2d9f93c2753b",
   "metadata": {},
   "outputs": [
    {
     "name": "stdout",
     "output_type": "stream",
     "text": [
      "Уникальных customer_id: 99441\n",
      "Уникальных customer_unique_id: 96096\n"
     ]
    }
   ],
   "source": [
    "print(\"Уникальных customer_id:\", customers[\"customer_id\"].nunique())\n",
    "print(\"Уникальных customer_unique_id:\", customers[\"customer_unique_id\"].nunique())"
   ]
  },
  {
   "cell_type": "markdown",
   "id": "af83d0c6-f338-4e6e-834e-1517b0e4e8c9",
   "metadata": {},
   "source": [
    "Теперь перейдем к предподготовке таблицы REVIEWS. Особенностью данного датасета является отсутсиве пропусков в колонке review_score, которая содержит оценку заказа от 1 до 5. Эту означает, что эту метрику можно использовать для анализа удовлетворенности покупателей как ключевую. \n",
    "В колонках:\n",
    "review_comment_title → почти все пустые (~88%).\n",
    "review_comment_message → более половины пустые (~58%)"
   ]
  },
  {
   "cell_type": "code",
   "execution_count": 29,
   "id": "42bfd4ec-a389-4ac2-b549-c1bd056ecae7",
   "metadata": {},
   "outputs": [
    {
     "data": {
      "text/html": [
       "<div>\n",
       "<style scoped>\n",
       "    .dataframe tbody tr th:only-of-type {\n",
       "        vertical-align: middle;\n",
       "    }\n",
       "\n",
       "    .dataframe tbody tr th {\n",
       "        vertical-align: top;\n",
       "    }\n",
       "\n",
       "    .dataframe thead th {\n",
       "        text-align: right;\n",
       "    }\n",
       "</style>\n",
       "<table border=\"1\" class=\"dataframe\">\n",
       "  <thead>\n",
       "    <tr style=\"text-align: right;\">\n",
       "      <th></th>\n",
       "      <th>review_id</th>\n",
       "      <th>order_id</th>\n",
       "      <th>review_score</th>\n",
       "      <th>review_comment_title</th>\n",
       "      <th>review_comment_message</th>\n",
       "      <th>review_creation_date</th>\n",
       "      <th>review_answer_timestamp</th>\n",
       "    </tr>\n",
       "  </thead>\n",
       "  <tbody>\n",
       "    <tr>\n",
       "      <th>0</th>\n",
       "      <td>7bc2406110b926393aa56f80a40eba40</td>\n",
       "      <td>73fc7af87114b39712e6da79b0a377eb</td>\n",
       "      <td>4</td>\n",
       "      <td>NaN</td>\n",
       "      <td>NaN</td>\n",
       "      <td>2018-01-18 00:00:00</td>\n",
       "      <td>2018-01-18 21:46:59</td>\n",
       "    </tr>\n",
       "    <tr>\n",
       "      <th>1</th>\n",
       "      <td>80e641a11e56f04c1ad469d5645fdfde</td>\n",
       "      <td>a548910a1c6147796b98fdf73dbeba33</td>\n",
       "      <td>5</td>\n",
       "      <td>NaN</td>\n",
       "      <td>NaN</td>\n",
       "      <td>2018-03-10 00:00:00</td>\n",
       "      <td>2018-03-11 03:05:13</td>\n",
       "    </tr>\n",
       "    <tr>\n",
       "      <th>2</th>\n",
       "      <td>228ce5500dc1d8e020d8d1322874b6f0</td>\n",
       "      <td>f9e4b658b201a9f2ecdecbb34bed034b</td>\n",
       "      <td>5</td>\n",
       "      <td>NaN</td>\n",
       "      <td>NaN</td>\n",
       "      <td>2018-02-17 00:00:00</td>\n",
       "      <td>2018-02-18 14:36:24</td>\n",
       "    </tr>\n",
       "    <tr>\n",
       "      <th>3</th>\n",
       "      <td>e64fb393e7b32834bb789ff8bb30750e</td>\n",
       "      <td>658677c97b385a9be170737859d3511b</td>\n",
       "      <td>5</td>\n",
       "      <td>NaN</td>\n",
       "      <td>Recebi bem antes do prazo estipulado.</td>\n",
       "      <td>2017-04-21 00:00:00</td>\n",
       "      <td>2017-04-21 22:02:06</td>\n",
       "    </tr>\n",
       "    <tr>\n",
       "      <th>4</th>\n",
       "      <td>f7c4243c7fe1938f181bec41a392bdeb</td>\n",
       "      <td>8e6bfb81e283fa7e4f11123a3fb894f1</td>\n",
       "      <td>5</td>\n",
       "      <td>NaN</td>\n",
       "      <td>Parabéns lojas lannister adorei comprar pela I...</td>\n",
       "      <td>2018-03-01 00:00:00</td>\n",
       "      <td>2018-03-02 10:26:53</td>\n",
       "    </tr>\n",
       "  </tbody>\n",
       "</table>\n",
       "</div>"
      ],
      "text/plain": [
       "                          review_id                          order_id  \\\n",
       "0  7bc2406110b926393aa56f80a40eba40  73fc7af87114b39712e6da79b0a377eb   \n",
       "1  80e641a11e56f04c1ad469d5645fdfde  a548910a1c6147796b98fdf73dbeba33   \n",
       "2  228ce5500dc1d8e020d8d1322874b6f0  f9e4b658b201a9f2ecdecbb34bed034b   \n",
       "3  e64fb393e7b32834bb789ff8bb30750e  658677c97b385a9be170737859d3511b   \n",
       "4  f7c4243c7fe1938f181bec41a392bdeb  8e6bfb81e283fa7e4f11123a3fb894f1   \n",
       "\n",
       "   review_score review_comment_title  \\\n",
       "0             4                  NaN   \n",
       "1             5                  NaN   \n",
       "2             5                  NaN   \n",
       "3             5                  NaN   \n",
       "4             5                  NaN   \n",
       "\n",
       "                              review_comment_message review_creation_date  \\\n",
       "0                                                NaN  2018-01-18 00:00:00   \n",
       "1                                                NaN  2018-03-10 00:00:00   \n",
       "2                                                NaN  2018-02-17 00:00:00   \n",
       "3              Recebi bem antes do prazo estipulado.  2017-04-21 00:00:00   \n",
       "4  Parabéns lojas lannister adorei comprar pela I...  2018-03-01 00:00:00   \n",
       "\n",
       "  review_answer_timestamp  \n",
       "0     2018-01-18 21:46:59  \n",
       "1     2018-03-11 03:05:13  \n",
       "2     2018-02-18 14:36:24  \n",
       "3     2017-04-21 22:02:06  \n",
       "4     2018-03-02 10:26:53  "
      ]
     },
     "execution_count": 29,
     "metadata": {},
     "output_type": "execute_result"
    }
   ],
   "source": [
    "reviews.head()"
   ]
  },
  {
   "cell_type": "code",
   "execution_count": 31,
   "id": "408fdde7-de41-465c-94da-8e3a02076dbc",
   "metadata": {},
   "outputs": [
    {
     "name": "stdout",
     "output_type": "stream",
     "text": [
      "Распределение оценок (review_score):\n",
      "review_score\n",
      "1    11.513344\n",
      "2     3.175643\n",
      "3     8.242965\n",
      "4    19.291704\n",
      "5    57.776344\n",
      "Name: proportion, dtype: float64\n",
      "\n",
      "Из 99,224 отзывов:\n",
      "- с заголовком: 11,568 (11.7%)\n",
      "- с текстом:    40,977 (41.3%)\n",
      "- только оценка: 58,247 (58.7%)\n",
      "\n",
      "Пример отзывов:\n",
      "                          review_id                          order_id  \\\n",
      "0  7bc2406110b926393aa56f80a40eba40  73fc7af87114b39712e6da79b0a377eb   \n",
      "1  80e641a11e56f04c1ad469d5645fdfde  a548910a1c6147796b98fdf73dbeba33   \n",
      "2  228ce5500dc1d8e020d8d1322874b6f0  f9e4b658b201a9f2ecdecbb34bed034b   \n",
      "\n",
      "   review_score review_comment_title review_comment_message  \\\n",
      "0             4                  NaN                    NaN   \n",
      "1             5                  NaN                    NaN   \n",
      "2             5                  NaN                    NaN   \n",
      "\n",
      "  review_creation_date review_answer_timestamp  \n",
      "0           2018-01-18     2018-01-18 21:46:59  \n",
      "1           2018-03-10     2018-03-11 03:05:13  \n",
      "2           2018-02-17     2018-02-18 14:36:24  \n"
     ]
    }
   ],
   "source": [
    "# 1) Приводим даты к datetime\n",
    "reviews[\"review_creation_date\"] = pd.to_datetime(reviews[\"review_creation_date\"], errors=\"coerce\")\n",
    "reviews[\"review_answer_timestamp\"] = pd.to_datetime(reviews[\"review_answer_timestamp\"], errors=\"coerce\")\n",
    "\n",
    "# 2) Проверим распределение оценок\n",
    "print(\"Распределение оценок (review_score):\")\n",
    "print(reviews[\"review_score\"].value_counts(normalize=True).sort_index() * 100)\n",
    "\n",
    "# 3) Считаем, сколько отзывов с текстом / без текста\n",
    "with_title = reviews[\"review_comment_title\"].notna().sum()\n",
    "with_message = reviews[\"review_comment_message\"].notna().sum()\n",
    "total = len(reviews)\n",
    "\n",
    "print(f\"\\nИз {total:,} отзывов:\")\n",
    "print(f\"- с заголовком: {with_title:,} ({with_title/total:.1%})\")\n",
    "print(f\"- с текстом:    {with_message:,} ({with_message/total:.1%})\")\n",
    "print(f\"- только оценка: {(total - with_message):,} ({(total - with_message)/total:.1%})\")\n",
    "\n",
    "# 4) Быстрый просмотр\n",
    "print(\"\\nПример отзывов:\")\n",
    "print(reviews.head(3))"
   ]
  },
  {
   "cell_type": "markdown",
   "id": "2138c672-12d1-48f1-8f35-40f4894da52c",
   "metadata": {},
   "source": [
    "Выделим последний отзыв по каждому заказу (так как будем агрегировать на уровне заказа для дальнейшего анализа). Берем наиболее актуальный отзыв по заказу - последний по времени"
   ]
  },
  {
   "cell_type": "code",
   "execution_count": 33,
   "id": "0e628b77-1786-4032-9811-0a79260a5081",
   "metadata": {},
   "outputs": [],
   "source": [
    "# Нам для order-level дальше нужна только итоговая оценка по заказу.\n",
    "# Берём последний по времени ответа отзыв и оставляем только оценку.\n",
    "reviews_min = (\n",
    "    reviews.sort_values([\"order_id\", \"review_answer_timestamp\"])\n",
    "           .groupby(\"order_id\", as_index=False)\n",
    "           .tail(1)[[\"order_id\", \"review_score\"]]\n",
    ")\n",
    "\n",
    "assert reviews_min[\"order_id\"].is_unique, \"В reviews_min должен быть 1 отзыв на заказ\""
   ]
  },
  {
   "cell_type": "markdown",
   "id": "18398ab8-8fb4-43f2-adbf-8e08d19978cb",
   "metadata": {},
   "source": [
    "Теперь обработаем датасет items. Здесь приведем дату к datetime, а также агрегируем на уровне заказа — это нужно для возможности дальнейшего объединения с таблицами orders и payments.\n",
    "items_count — сколько позиций в заказе (размер корзины)\n",
    "unique_products — уникальных товаров\n",
    "sum_price — сумма цен товаров\n",
    "sum_freight — доставка\n",
    "avg_item_price, median_item_price — характеристики корзины"
   ]
  },
  {
   "cell_type": "code",
   "execution_count": 35,
   "id": "d9c8d962-5f5e-47aa-917b-de73ee01383c",
   "metadata": {},
   "outputs": [
    {
     "data": {
      "text/html": [
       "<div>\n",
       "<style scoped>\n",
       "    .dataframe tbody tr th:only-of-type {\n",
       "        vertical-align: middle;\n",
       "    }\n",
       "\n",
       "    .dataframe tbody tr th {\n",
       "        vertical-align: top;\n",
       "    }\n",
       "\n",
       "    .dataframe thead th {\n",
       "        text-align: right;\n",
       "    }\n",
       "</style>\n",
       "<table border=\"1\" class=\"dataframe\">\n",
       "  <thead>\n",
       "    <tr style=\"text-align: right;\">\n",
       "      <th></th>\n",
       "      <th>order_id</th>\n",
       "      <th>order_item_id</th>\n",
       "      <th>product_id</th>\n",
       "      <th>seller_id</th>\n",
       "      <th>shipping_limit_date</th>\n",
       "      <th>price</th>\n",
       "      <th>freight_value</th>\n",
       "    </tr>\n",
       "  </thead>\n",
       "  <tbody>\n",
       "    <tr>\n",
       "      <th>0</th>\n",
       "      <td>00010242fe8c5a6d1ba2dd792cb16214</td>\n",
       "      <td>1</td>\n",
       "      <td>4244733e06e7ecb4970a6e2683c13e61</td>\n",
       "      <td>48436dade18ac8b2bce089ec2a041202</td>\n",
       "      <td>2017-09-19 09:45:35</td>\n",
       "      <td>58.90</td>\n",
       "      <td>13.29</td>\n",
       "    </tr>\n",
       "    <tr>\n",
       "      <th>1</th>\n",
       "      <td>00018f77f2f0320c557190d7a144bdd3</td>\n",
       "      <td>1</td>\n",
       "      <td>e5f2d52b802189ee658865ca93d83a8f</td>\n",
       "      <td>dd7ddc04e1b6c2c614352b383efe2d36</td>\n",
       "      <td>2017-05-03 11:05:13</td>\n",
       "      <td>239.90</td>\n",
       "      <td>19.93</td>\n",
       "    </tr>\n",
       "    <tr>\n",
       "      <th>2</th>\n",
       "      <td>000229ec398224ef6ca0657da4fc703e</td>\n",
       "      <td>1</td>\n",
       "      <td>c777355d18b72b67abbeef9df44fd0fd</td>\n",
       "      <td>5b51032eddd242adc84c38acab88f23d</td>\n",
       "      <td>2018-01-18 14:48:30</td>\n",
       "      <td>199.00</td>\n",
       "      <td>17.87</td>\n",
       "    </tr>\n",
       "    <tr>\n",
       "      <th>3</th>\n",
       "      <td>00024acbcdf0a6daa1e931b038114c75</td>\n",
       "      <td>1</td>\n",
       "      <td>7634da152a4610f1595efa32f14722fc</td>\n",
       "      <td>9d7a1d34a5052409006425275ba1c2b4</td>\n",
       "      <td>2018-08-15 10:10:18</td>\n",
       "      <td>12.99</td>\n",
       "      <td>12.79</td>\n",
       "    </tr>\n",
       "    <tr>\n",
       "      <th>4</th>\n",
       "      <td>00042b26cf59d7ce69dfabb4e55b4fd9</td>\n",
       "      <td>1</td>\n",
       "      <td>ac6c3623068f30de03045865e4e10089</td>\n",
       "      <td>df560393f3a51e74553ab94004ba5c87</td>\n",
       "      <td>2017-02-13 13:57:51</td>\n",
       "      <td>199.90</td>\n",
       "      <td>18.14</td>\n",
       "    </tr>\n",
       "  </tbody>\n",
       "</table>\n",
       "</div>"
      ],
      "text/plain": [
       "                           order_id  order_item_id  \\\n",
       "0  00010242fe8c5a6d1ba2dd792cb16214              1   \n",
       "1  00018f77f2f0320c557190d7a144bdd3              1   \n",
       "2  000229ec398224ef6ca0657da4fc703e              1   \n",
       "3  00024acbcdf0a6daa1e931b038114c75              1   \n",
       "4  00042b26cf59d7ce69dfabb4e55b4fd9              1   \n",
       "\n",
       "                         product_id                         seller_id  \\\n",
       "0  4244733e06e7ecb4970a6e2683c13e61  48436dade18ac8b2bce089ec2a041202   \n",
       "1  e5f2d52b802189ee658865ca93d83a8f  dd7ddc04e1b6c2c614352b383efe2d36   \n",
       "2  c777355d18b72b67abbeef9df44fd0fd  5b51032eddd242adc84c38acab88f23d   \n",
       "3  7634da152a4610f1595efa32f14722fc  9d7a1d34a5052409006425275ba1c2b4   \n",
       "4  ac6c3623068f30de03045865e4e10089  df560393f3a51e74553ab94004ba5c87   \n",
       "\n",
       "   shipping_limit_date   price  freight_value  \n",
       "0  2017-09-19 09:45:35   58.90          13.29  \n",
       "1  2017-05-03 11:05:13  239.90          19.93  \n",
       "2  2018-01-18 14:48:30  199.00          17.87  \n",
       "3  2018-08-15 10:10:18   12.99          12.79  \n",
       "4  2017-02-13 13:57:51  199.90          18.14  "
      ]
     },
     "execution_count": 35,
     "metadata": {},
     "output_type": "execute_result"
    }
   ],
   "source": [
    "items.head()"
   ]
  },
  {
   "cell_type": "code",
   "execution_count": 37,
   "id": "4780d7e3-7fd2-4af7-b5c3-66f3e8dba91f",
   "metadata": {},
   "outputs": [
    {
     "name": "stdout",
     "output_type": "stream",
     "text": [
      "Дубликатов (order_id, order_item_id): 0\n"
     ]
    }
   ],
   "source": [
    "dup_rows = items.duplicated(subset=[\"order_id\", \"order_item_id\"]).sum()\n",
    "print(\"Дубликатов (order_id, order_item_id):\", dup_rows) "
   ]
  },
  {
   "cell_type": "markdown",
   "id": "268bce65-4ea6-4cc9-805e-67594413bb4f",
   "metadata": {},
   "source": [
    "Для дальнейшего использования в LTV-прогнозе и сегментации (размер корзины, «дорогие/дешёвые» покупки) рассчитаем количество товаров в заказе (items_count) и среднюю цену позции (avg_item_price) на уровне заказов (order_id) "
   ]
  },
  {
   "cell_type": "code",
   "execution_count": 39,
   "id": "75368b5d-3937-45cc-b675-93d5bcb19e03",
   "metadata": {},
   "outputs": [
    {
     "name": "stdout",
     "output_type": "stream",
     "text": [
      "                           order_id  items_count  unique_products  sum_price  \\\n",
      "0  00010242fe8c5a6d1ba2dd792cb16214            1                1      58.90   \n",
      "1  00018f77f2f0320c557190d7a144bdd3            1                1     239.90   \n",
      "2  000229ec398224ef6ca0657da4fc703e            1                1     199.00   \n",
      "3  00024acbcdf0a6daa1e931b038114c75            1                1      12.99   \n",
      "4  00042b26cf59d7ce69dfabb4e55b4fd9            1                1     199.90   \n",
      "\n",
      "   sum_freight  avg_item_price  median_item_price  \n",
      "0        13.29           58.90              58.90  \n",
      "1        19.93          239.90             239.90  \n",
      "2        17.87          199.00             199.00  \n",
      "3        12.79           12.99              12.99  \n",
      "4        18.14          199.90             199.90  \n"
     ]
    }
   ],
   "source": [
    "items_agg = (\n",
    "    items.groupby(\"order_id\")\n",
    "         .agg(\n",
    "             items_count=(\"order_item_id\", \"count\"),\n",
    "             unique_products=(\"product_id\", \"nunique\"),\n",
    "             sum_price=(\"price\", \"sum\"),\n",
    "             sum_freight=(\"freight_value\", \"sum\"),\n",
    "             avg_item_price=(\"price\", \"mean\"),\n",
    "             median_item_price=(\"price\", \"median\"),\n",
    "         )\n",
    "         .reset_index()\n",
    ")\n",
    "\n",
    "print(items_agg.head())"
   ]
  },
  {
   "cell_type": "code",
   "execution_count": 41,
   "id": "560e2f89-d028-4ff9-82d0-6b38eab0ac49",
   "metadata": {},
   "outputs": [
    {
     "name": "stdout",
     "output_type": "stream",
     "text": [
      "        items_count  unique_products     sum_price   sum_freight  \\\n",
      "count  98666.000000     98666.000000  98666.000000  98666.000000   \n",
      "mean       1.141731         1.038098    137.754076     22.823562   \n",
      "std        0.538452         0.226456    210.645145     21.650909   \n",
      "min        1.000000         1.000000      0.850000      0.000000   \n",
      "25%        1.000000         1.000000     45.900000     13.850000   \n",
      "50%        1.000000         1.000000     86.900000     17.170000   \n",
      "75%        1.000000         1.000000    149.900000     24.040000   \n",
      "max       21.000000         8.000000  13440.000000   1794.960000   \n",
      "\n",
      "       avg_item_price  median_item_price  \n",
      "count    98666.000000       98666.000000  \n",
      "mean       125.919255         125.864486  \n",
      "std        190.985636         190.990406  \n",
      "min          0.850000           0.850000  \n",
      "25%         41.990000          41.900000  \n",
      "50%         79.000000          79.000000  \n",
      "75%        139.900000         139.900000  \n",
      "max       6735.000000        6735.000000  \n"
     ]
    }
   ],
   "source": [
    "print(items_agg.describe())"
   ]
  },
  {
   "cell_type": "markdown",
   "id": "096fc353-097b-4437-b219-6cacfe5db6d4",
   "metadata": {},
   "source": [
    "## Собираем уровень заказа"
   ]
  },
  {
   "cell_type": "code",
   "execution_count": 43,
   "id": "502bd29d-f233-4c54-a619-fb06c27ba1c4",
   "metadata": {},
   "outputs": [
    {
     "name": "stdout",
     "output_type": "stream",
     "text": [
      "OK: orders_enriched собран | rows= 99441 | min/max: 2016-09-04 21:15:19 2018-10-17 17:30:18\n"
     ]
    }
   ],
   "source": [
    "# 1) заказы — базовый срез\n",
    "orders_min = orders[[\"order_id\",\"customer_id\",\"order_status\",\"order_purchase_timestamp\"]].copy()\n",
    "\n",
    "# 2) агрегаты платежей и корзины \n",
    "payments_agg = (\n",
    "    payments.groupby(\"order_id\", as_index=False)[\"payment_value\"]\n",
    "            .sum()\n",
    "            .rename(columns={\"payment_value\":\"order_total_payment\"})\n",
    ")\n",
    "\n",
    "items_agg = (\n",
    "    items.groupby(\"order_id\", as_index=False)\n",
    "         .agg(\n",
    "             items_count    = (\"order_item_id\",\"count\"),\n",
    "             sum_price      = (\"price\",\"sum\"),\n",
    "             sum_freight    = (\"freight_value\",\"sum\"),\n",
    "             avg_item_price = (\"price\",\"mean\")\n",
    "         )\n",
    ")\n",
    "\n",
    "# 3) мерджим таблицу\n",
    "orders_enriched = (\n",
    "    orders_min\n",
    "      .merge(payments_agg, on=\"order_id\", how=\"left\")\n",
    "      .merge(items_agg,    on=\"order_id\", how=\"left\")\n",
    "      .merge(reviews_min,  on=\"order_id\", how=\"left\")   \n",
    ")\n",
    "\n",
    "# 4) базовые метрики заказа\n",
    "orders_enriched[\"delivered_flag\"] = (orders_enriched[\"order_status\"] == \"delivered\").astype(int)\n",
    "orders_enriched[\"order_total_payment\"] = orders_enriched[\"order_total_payment\"].fillna(0.0)\n",
    "orders_enriched[\"revenue_order\"] = np.where(\n",
    "    orders_enriched[\"delivered_flag\"].eq(1),\n",
    "    orders_enriched[\"order_total_payment\"],\n",
    "    0.0\n",
    ")\n",
    "\n",
    "# 5) присоединяем ID клиента\n",
    "orders_enriched = orders_enriched.merge(\n",
    "    customers[[\"customer_id\",\"customer_unique_id\"]].drop_duplicates(),\n",
    "    on=\"customer_id\", how=\"left\"\n",
    ")\n",
    "\n",
    "# 6) Санити-проверки (обязательно)\n",
    "assert len(orders_enriched) == len(orders) == 99441, \"Потерялись/добавились заказы при merge\"\n",
    "assert orders_enriched[\"order_id\"].is_unique, \"order_id размножились где-то на merge\"\n",
    "\n",
    "print(\n",
    "    \"OK: orders_enriched собран | rows=\", len(orders_enriched),\n",
    "    \"| min/max:\", orders_enriched[\"order_purchase_timestamp\"].min(),\n",
    "    orders_enriched[\"order_purchase_timestamp\"].max()\n",
    ")"
   ]
  },
  {
   "cell_type": "code",
   "execution_count": 45,
   "id": "c7226eb5-6584-46e4-9242-3cd151689db4",
   "metadata": {},
   "outputs": [
    {
     "name": "stdout",
     "output_type": "stream",
     "text": [
      "                           order_id                       customer_id  \\\n",
      "0  e481f51cbdc54678b7cc49136f2d6af7  9ef432eb6251297304e76186b10a928d   \n",
      "1  53cdb2fc8bc7dce0b6741e2150273451  b0830fb4747a6c6d20dea0b8c802d7ef   \n",
      "2  47770eb9100c2d0c44946d9cf07ec65d  41ce2a54c0b03bf3443c3d931a367089   \n",
      "\n",
      "  order_status order_purchase_timestamp  order_total_payment  items_count  \\\n",
      "0    delivered      2017-10-02 10:56:33                38.71          1.0   \n",
      "1    delivered      2018-07-24 20:41:37               141.46          1.0   \n",
      "2    delivered      2018-08-08 08:38:49               179.12          1.0   \n",
      "\n",
      "   sum_price  sum_freight  avg_item_price  review_score  delivered_flag  \\\n",
      "0      29.99         8.72           29.99           4.0               1   \n",
      "1     118.70        22.76          118.70           4.0               1   \n",
      "2     159.90        19.22          159.90           5.0               1   \n",
      "\n",
      "   revenue_order                customer_unique_id  \n",
      "0          38.71  7c396fd4830fd04220f754e42b4e5bff  \n",
      "1         141.46  af07308b275d755c9edb36a90c618231  \n",
      "2         179.12  3a653a41f6f9fc3d2a113cf8398680e8  \n"
     ]
    }
   ],
   "source": [
    "print(orders_enriched.head(3))"
   ]
  },
  {
   "cell_type": "markdown",
   "id": "c3151f00-82a1-41dc-8b70-9a95169b0120",
   "metadata": {},
   "source": [
    "## Собираем уровень клиента"
   ]
  },
  {
   "cell_type": "code",
   "execution_count": 49,
   "id": "97c73213-d767-4e60-ad5d-336c6127cb58",
   "metadata": {},
   "outputs": [
    {
     "name": "stdout",
     "output_type": "stream",
     "text": [
      "Строк (клиентов): 96096\n",
      "                 customer_unique_id  orders_count  delivered_orders  \\\n",
      "0  0000366f3b9a7992bf8c76cfdf3221e2             1                 1   \n",
      "1  0000b849f77a49e4a4ce2b2a4ca5be3f             1                 1   \n",
      "2  0000f46a3911fa3c0805444483337064             1                 1   \n",
      "3  0000f6ccb0745a6a4b88665a16c9f078             1                 1   \n",
      "4  0004aac84e0df4da2b147fca70cf8255             1                 1   \n",
      "\n",
      "   ltv_current  avg_review  reviews_count      first_purchase  \\\n",
      "0       141.90         5.0              1 2018-05-10 10:56:27   \n",
      "1        27.19         4.0              1 2018-05-07 11:11:27   \n",
      "2        86.22         3.0              1 2017-03-10 21:05:03   \n",
      "3        43.62         4.0              1 2017-10-12 20:29:41   \n",
      "4       196.89         5.0              1 2017-11-14 19:45:42   \n",
      "\n",
      "        last_purchase  avg_items_in_cart  recency_days  cancel_rate  \n",
      "0 2018-05-10 10:56:27                1.0           160          0.0  \n",
      "1 2018-05-07 11:11:27                1.0           163          0.0  \n",
      "2 2017-03-10 21:05:03                1.0           585          0.0  \n",
      "3 2017-10-12 20:29:41                1.0           369          0.0  \n",
      "4 2017-11-14 19:45:42                1.0           336          0.0  \n"
     ]
    }
   ],
   "source": [
    "# 1) присоединим клиентский ID\n",
    "orders_enriched = orders_enriched.merge(\n",
    "    customers[[\"customer_id\",\"customer_unique_id\"]],\n",
    "    on=\"customer_id\",\n",
    "    how=\"left\"\n",
    ")\n",
    "\n",
    "# 2) посчитаем базовые метрики клиента (минимально нужные)\n",
    "customer_features = (\n",
    "    orders_enriched\n",
    "      .groupby(\"customer_unique_id\", as_index=False)\n",
    "      .agg(\n",
    "          orders_count=(\"order_id\", \"nunique\"),\n",
    "          delivered_orders=(\"delivered_flag\", \"sum\"),\n",
    "          ltv_current=(\"revenue_order\", \"sum\"),\n",
    "          avg_review=(\"review_score\", \"mean\"),\n",
    "          reviews_count=(\"review_score\", lambda s: s.notna().sum()),\n",
    "          first_purchase=(\"order_purchase_timestamp\", \"min\"),\n",
    "          last_purchase=(\"order_purchase_timestamp\", \"max\"),\n",
    "          avg_items_in_cart=(\"items_count\", \"mean\")\n",
    "      )\n",
    ")\n",
    "\n",
    "# 3) дополнительные простые признаки\n",
    "max_dt = orders_enriched[\"order_purchase_timestamp\"].max()\n",
    "customer_features[\"recency_days\"] = (max_dt - customer_features[\"last_purchase\"]).dt.days\n",
    "customer_features[\"cancel_rate\"] = 1 - (customer_features[\"delivered_orders\"] / customer_features[\"orders_count\"])\n",
    "customer_features[\"avg_review\"] = customer_features[\"avg_review\"].round(2)\n",
    "\n",
    "# 4) вывод\n",
    "print(\"Строк (клиентов):\", len(customer_features))\n",
    "print(customer_features.head(5))"
   ]
  },
  {
   "cell_type": "markdown",
   "id": "482b531c-88f3-409d-a963-6eb2ffc31f99",
   "metadata": {},
   "source": [
    "## Сегментация базы\n",
    "**Следующий этап работы - разработка сегментации клиентской базы для оценки LTV для разных категорий клиентов.**  Я использовала два подхода: правила (rule-based) — прозрачные пороги по квартилям для интерпретируемых ярлыков, и K-Means — чтобы без ручных порогов выявить скрытые кластеры. По результату построена перекрёстная таблица Rule × K-Means: проверяет согласованность и помогает дать человеческие названия кластерам, отмечая «смешанные» группы. Эти сегменты в дальнейшей работе используются в матрице развития (Low/High → Low/High по LTV на 120 дней) и для приоритизации кампаний: удержание VIP, реактивация «спящих», онбординг новичков, работа с рисковым сегментом клиентов."
   ]
  },
  {
   "cell_type": "code",
   "execution_count": 51,
   "id": "7305bfe1-ab68-429b-ae5b-9853901f5967",
   "metadata": {},
   "outputs": [
    {
     "name": "stdout",
     "output_type": "stream",
     "text": [
      "\n",
      "--- Размеры сегментов (Rule-based) ---\n",
      "segment_rule\n",
      "Остальные                   30602\n",
      "Риск ухода                  23651\n",
      "VIP лояльные                13844\n",
      "Новички с потенциалом       11244\n",
      "Риск из-за плохого опыта     8923\n",
      "Спящие доходные              7832\n",
      "Name: count, dtype: int64\n",
      "\n",
      "--- Размеры кластеров (K-Means) ---\n",
      "cluster_km\n",
      "0    16984\n",
      "1     2119\n",
      "2    31773\n",
      "3     2962\n",
      "4    42258\n",
      "Name: count, dtype: int64\n",
      "\n",
      "--- Средние метрики по Rule-based ---\n",
      "                          ltv_current  orders_count  recency_days  avg_review\n",
      "segment_rule                                                                 \n",
      "VIP лояльные                   385.04          1.09        282.94        4.99\n",
      "Спящие доходные                385.01          1.08        336.80        2.76\n",
      "Риск из-за плохого опыта       168.02          1.04        107.20        2.98\n",
      "Новички с потенциалом           88.27          1.02        105.27        5.00\n",
      "Остальные                       86.98          1.02        350.51        5.00\n",
      "Риск ухода                      81.30          1.02        347.93        2.82\n",
      "\n",
      "--- Средние метрики по K-Means ---\n",
      "            ltv_current  orders_count  recency_days  avg_review\n",
      "cluster_km                                                     \n",
      "1               1227.48          1.02        286.44        4.08\n",
      "3                279.79          2.12        268.32        4.11\n",
      "4                132.39          1.00        170.90        4.65\n",
      "2                132.01          1.00        441.61        4.63\n",
      "0                129.77          1.00        294.13        1.55\n",
      "\n",
      "--- Перекрёстная таблица: Rule-based vs K-Means ---\n",
      "cluster_km                    0     1      2     3      4\n",
      "segment_rule                                             \n",
      "VIP лояльные                163  1241   4801  1085   6554\n",
      "Новички с потенциалом        97     0      0   194  10953\n",
      "Остальные                   428     0  17150   476  12548\n",
      "Риск из-за плохого опыта   2521   213      0   309   5880\n",
      "Риск ухода                10587     0   7753   361   4950\n",
      "Спящие доходные            3188   665   2069   537   1373\n"
     ]
    }
   ],
   "source": [
    "cf = customer_features.copy()\n",
    "\n",
    "# ===== A) Rule-based сегментация =====\n",
    "q_ltv_hi = cf[\"ltv_current\"].quantile(0.75) #высокий LTV\n",
    "q_freq_hi = cf[\"orders_count\"].quantile(0.75) #часто покупает\n",
    "q_rec_lo = cf[\"recency_days\"].quantile(0.25)  # покупал недавно\n",
    "q_rev_lo = cf[\"avg_review\"].quantile(0.25) #плохие оценки\n",
    "\n",
    "cf[\"is_high_ltv\"]   = (cf[\"ltv_current\"] >= q_ltv_hi)\n",
    "cf[\"is_frequent\"]   = (cf[\"orders_count\"] >= q_freq_hi)\n",
    "cf[\"is_recent\"]     = (cf[\"recency_days\"] <= q_rec_lo)\n",
    "cf[\"is_low_review\"] = (cf[\"avg_review\"] <= q_rev_lo)\n",
    "\n",
    "def label_segment(row):\n",
    "    if row.is_high_ltv and row.is_frequent and not row.is_low_review:\n",
    "        return \"VIP лояльные\" #высокий LTV + частота + нет плохих отзывов\n",
    "    if (not row.is_high_ltv) and row.is_recent and (not row.is_low_review):\n",
    "        return \"Новички с потенциалом\" #LTV не высокий, но клиент свежий и без негатива\n",
    "    if row.is_high_ltv and (not row.is_recent):\n",
    "        return \"Спящие доходные\" #высокий LTV, но давно не покупал\n",
    "    if row.is_low_review and row.is_recent:\n",
    "        return \"Риск из-за плохого опыта\" #есть негатив и клиент свежий\n",
    "    if row.is_low_review and (not row.is_recent):\n",
    "        return \"Риск ухода\" #есть негатив и давно не покупал\n",
    "    return \"Остальные\"\n",
    "\n",
    "cf[\"segment_rule\"] = cf.apply(label_segment, axis=1)\n",
    "\n",
    "# ===== B) K-Means сегментация =====\n",
    "X = cf[[\"ltv_current\",\"orders_count\",\"recency_days\",\"avg_review\"]].fillna(0.0)\n",
    "\n",
    "scaler = StandardScaler()\n",
    "Xs = scaler.fit_transform(X)\n",
    "\n",
    "kmeans = KMeans(n_clusters=5, n_init=10, random_state=42)\n",
    "cf[\"cluster_km\"] = kmeans.fit_predict(Xs)\n",
    "\n",
    "# ===== C) Сравнение результатов =====\n",
    "\n",
    "print(\"\\n--- Размеры сегментов (Rule-based) ---\")\n",
    "print(cf[\"segment_rule\"].value_counts())\n",
    "\n",
    "print(\"\\n--- Размеры кластеров (K-Means) ---\")\n",
    "print(cf[\"cluster_km\"].value_counts().sort_index())\n",
    "\n",
    "print(\"\\n--- Средние метрики по Rule-based ---\")\n",
    "print(cf.groupby(\"segment_rule\")[[\"ltv_current\",\"orders_count\",\"recency_days\",\"avg_review\"]]\n",
    "        .mean().round(2).sort_values(\"ltv_current\", ascending=False))\n",
    "\n",
    "print(\"\\n--- Средние метрики по K-Means ---\")\n",
    "print(cf.groupby(\"cluster_km\")[[\"ltv_current\",\"orders_count\",\"recency_days\",\"avg_review\"]]\n",
    "        .mean().round(2).sort_values(\"ltv_current\", ascending=False))\n",
    "\n",
    "print(\"\\n--- Перекрёстная таблица: Rule-based vs K-Means ---\")\n",
    "print(pd.crosstab(cf[\"segment_rule\"], cf[\"cluster_km\"]))"
   ]
  },
  {
   "cell_type": "markdown",
   "id": "fc8faa70-eddf-4a39-8d7e-73b588b21096",
   "metadata": {},
   "source": [
    "**Выводы и дальнейшие шаги по доработке сегментации**\n",
    "Самая большая масса клиентов попадает в сегменты — Остальные и Риск ухода. \n",
    "**Средние метрики по Rule-based**\n",
    "VIP лояльные и Спящие доходные ≈ одинаково высокие LTV (~385), но у “спящих” recency гораздо больше (≈337 дней) → бывшие крупные клиенты.\n",
    "Новички с потенциалом: низкий текущий LTV (~88), но очень свежие (≈105 дней) и высокие оценки (≈5) → группа для дальнейшего развития и увеличения чека.\n",
    "Риск ухода: низкие оценки (≈2.82) и высокая давность (≈348 дней) → приоритизируем в win-back.\n",
    "**Средние по кластерам:**\n",
    "Кластер 1: LTV ≈ 1227 (очень высокий), небольшой размер → “киты/whales”.\n",
    "Кластер 3: LTV ≈ 280, orders_count ≈ 2.1 → лояльные с повторениями.\n",
    "Кластеры 2 и 4: LTV ≈ 129–132, различаются recency/review (в одном ниже recency, в другом ниже отзывы).\n",
    "Кластер 0: LTV ≈ 130, avg_review ≈ 1.55 → явный негатив.\n",
    "**Анализ перекрестной таблицы Rule-based vs K-Means** - перекрестную таблицу далее используем для более продвинутой и точной сегментации\n",
    "Кластер 0 доминирует Риск ухода (10 587) → можно назвать “Риск ухода”.\n",
    "Кластер 1 доминируют VIP лояльные (1 241) и часть Спящие доходные (665) → “VIP/whales”.\n",
    "Кластер 2 доминируют Остальные (17 150) → “Стандартные”.\n",
    "Кластер 3 тяготеет к VIP лояльные (1 085) → “Лояльные частые”.\n",
    "Кластер 4 смешанный: много Новичков (10 953) + Остальные (12 548) + VIP (6 554) → “микс”, его лучше трактовать через дополнительные признаки"
   ]
  },
  {
   "cell_type": "markdown",
   "id": "0fbc3597-117d-4711-af9e-8bb6082572f5",
   "metadata": {},
   "source": [
    "**Комбинация методов для сегментации для более точной сегментации**\n",
    "Комбинирую правила и K-Means, потому что один метод не покрывает всё: rule-based даёт прозрачные, управляемые сегменты, но может пропускать скрытые паттерны, а K-Means такие паттерны находит, но сам по себе хуже интерпретируется. Перекрёстная таблица K-Means × rule-сегменты выполняет внешнюю валидацию: по доминирующему rule-ярлыку я присваиваю кластерам понятные названия и считаю чистоту (purity), помечая «смешанные» группы. В результате получаю сегментацию, которая одновременно обоснована данными и операционно применима.\n",
    "\n",
    "Кластеры с чистотой < 0.5 определяем как «смешанные». Это позволяет дать интерпретируемые названия кластерам и понимать, где сегменты однородны, а где — требуют уточнения перед кампаниями."
   ]
  },
  {
   "cell_type": "code",
   "execution_count": 53,
   "id": "b7e6d255-12f1-48bc-9417-dc13b932d37b",
   "metadata": {},
   "outputs": [
    {
     "name": "stdout",
     "output_type": "stream",
     "text": [
      "Доминирующий rule-сегмент по кластерам:\n",
      " 0      Риск ухода\n",
      "1    VIP лояльные\n",
      "2       Остальные\n",
      "3    VIP лояльные\n",
      "4       Остальные\n",
      "dtype: object\n",
      "\n",
      "Чистота кластеров:\n",
      " cluster_km\n",
      "0    0.623\n",
      "1    0.586\n",
      "2    0.540\n",
      "3    0.366\n",
      "4    0.297\n",
      "dtype: float64\n",
      "\n",
      "Размеры по финальным именам кластеров:\n",
      " cluster_rule_name\n",
      "Остальные (смеш.)       42258\n",
      "Остальные               31773\n",
      "Риск ухода              16984\n",
      "VIP лояльные (смеш.)     2962\n",
      "VIP лояльные             2119\n",
      "Name: count, dtype: int64\n",
      "\n",
      "Средние метрики по финальным именам:\n",
      "                       ltv_current  orders_count  recency_days  avg_review\n",
      "cluster_rule_name                                                        \n",
      "VIP лояльные              1227.48          1.02        286.44        4.08\n",
      "VIP лояльные (смеш.)       279.79          2.12        268.32        4.11\n",
      "Остальные                  132.01          1.00        441.61        4.63\n",
      "Остальные (смеш.)          132.39          1.00        170.90        4.65\n",
      "Риск ухода                 129.77          1.00        294.13        1.55\n"
     ]
    }
   ],
   "source": [
    "xtab = pd.crosstab(cf[\"cluster_km\"], cf[\"segment_rule\"])\n",
    "\n",
    "# 1) majority-мэппинг кластеров → для каждого кластера берём доминирующий (самый частый) rule-сегмент\n",
    "major_rule = xtab.idxmax(axis=1).to_dict()\n",
    "\n",
    "# 2) чистота кластеров (доля клиентов в доминирующем rule-сегменте от 0 до 1).\n",
    "purity = (xtab.max(axis=1) / xtab.sum(axis=1)).round(3)\n",
    "\n",
    "# 3) финальные имена кластеров \n",
    "def majority_name(k):\n",
    "    lbl = major_rule[k]\n",
    "    return f\"{lbl} (смеш.)\" if purity[k] < 0.5 else lbl #если чистота < 0.5, помечаем кластер как «(смеш.)», иначе оставляем чистый ярлык.\n",
    "\n",
    "cluster_name_map = {k: majority_name(k) for k in xtab.index}\n",
    "cf[\"cluster_rule_name\"] = cf[\"cluster_km\"].map(cluster_name_map) #присваиваем каждому клиенту человеческое имя его кластера (по доминирующему rule-сегменту + метка «смеш.» при необходимости).\n",
    "\n",
    "# 4) отчёт\n",
    "print(\"Доминирующий rule-сегмент по кластерам:\\n\", pd.Series(major_rule))\n",
    "print(\"\\nЧистота кластеров:\\n\", purity)\n",
    "print(\"\\nРазмеры по финальным именам кластеров:\\n\", cf[\"cluster_rule_name\"].value_counts())\n",
    "print(\"\\nСредние метрики по финальным именам:\\n\",\n",
    "      cf.groupby(\"cluster_rule_name\")[[\"ltv_current\",\"orders_count\",\"recency_days\",\"avg_review\"]].mean().round(2))"
   ]
  },
  {
   "cell_type": "markdown",
   "id": "e27b719d-ac80-4d74-a30a-ea40bc8a6a5f",
   "metadata": {},
   "source": [
    "**Соберем финальный сегмент для каждого клиента**, выбирая между кластером и правилами:"
   ]
  },
  {
   "cell_type": "code",
   "execution_count": 55,
   "id": "6399bc36-279d-4bdf-ad9b-6de27ebc29cb",
   "metadata": {},
   "outputs": [
    {
     "name": "stdout",
     "output_type": "stream",
     "text": [
      "Размеры финальных сегментов:\n",
      "segment_final\n",
      "Остальные                   30174\n",
      "Риск ухода                  30048\n",
      "VIP лояльные                14559\n",
      "Новички с потенциалом       11147\n",
      "Риск из-за плохого опыта     6189\n",
      "Спящие доходные              3979\n",
      "Name: count, dtype: int64\n",
      "\n",
      "Средние метрики по финальным сегментам:\n",
      "                          ltv_current  orders_count  recency_days  avg_review\n",
      "segment_final                                                                \n",
      "VIP лояльные                   438.24          1.09        282.57        4.86\n",
      "Спящие доходные                307.51          1.15        353.58        3.71\n",
      "Риск из-за плохого опыта       139.85          1.05        106.71        3.69\n",
      "Риск ухода                     111.03          1.01        323.52        2.55\n",
      "Новички с потенциалом           88.42          1.02        105.27        5.00\n",
      "Остальные                       87.20          1.02        350.44        5.00\n"
     ]
    }
   ],
   "source": [
    "cf_final = cf.copy()\n",
    "\n",
    "purity_thr = 0.55\n",
    "# базовые имена кластеров без пометки \"(смеш.)\"\n",
    "cluster_base = {k: lbl.replace(\" (смеш.)\", \"\") for k, lbl in cluster_name_map.items()}\n",
    "\n",
    "# берем имя кластера только если кластер достаточно \"чистый\"\n",
    "use_cluster = cf_final[\"cluster_km\"].map(purity) >= purity_thr\n",
    "\n",
    "cf_final[\"segment_final\"] = np.where(\n",
    "    use_cluster,\n",
    "    cf_final[\"cluster_km\"].map(cluster_base),   # имя кластера (чистые)\n",
    "    cf_final[\"segment_rule\"]                    # иначе правило\n",
    ")\n",
    "\n",
    "print(\"Размеры финальных сегментов:\")\n",
    "print(cf_final[\"segment_final\"].value_counts())\n",
    "\n",
    "print(\"\\nСредние метрики по финальным сегментам:\")\n",
    "print(\n",
    "    cf_final.groupby(\"segment_final\")[[\"ltv_current\",\"orders_count\",\"recency_days\",\"avg_review\"]]\n",
    "            .mean().round(2).sort_values(\"ltv_current\", ascending=False)\n",
    ")"
   ]
  },
  {
   "cell_type": "code",
   "execution_count": 57,
   "id": "edc82293-b976-45f3-8b12-1f4d9d69728b",
   "metadata": {},
   "outputs": [],
   "source": [
    "cf_final.loc[cf_final[\"segment_final\"]==\"Остальные\", \"segment_final\"] = \"Разовые покупатели\""
   ]
  },
  {
   "cell_type": "markdown",
   "id": "c9c3c659-12c5-49ca-9cbf-dde3f00a06dd",
   "metadata": {},
   "source": [
    "**Сегментация подтверждает наличие узкой VIP-группы и двух приоритетных зон роста:** ре-активация “спящих доходных” и ускорение 2-й покупки у новичков; группы с низкими оценками требуют сервисного обслуживания для улучшения клиентского опыта до промо-активностей.\n",
    "\n",
    "**VIP лояльные (14.6k):** самый высокий LTV ≈ 438, оценка 4.86. Беречь и развивать (апсейл/персональные офферы). Для маркетплейса Olist это редкие «ядровые» покупатели среди общей массы one-shot.\n",
    "\n",
    "**Спящие доходные (4.0k):** LTV высокий (≈ 308), но давно не покупали (recency ~354) и довольство ниже (3.71). Нужны ре-активации и сервисные фоллоу-апы. \n",
    "\n",
    "**Риск из-за плохого опыта (6.2k):** свежие (recency ~107), но низкие оценки (3.69). Низкий балл сам по себе маркер проблем (сроки/качество/возвраты). Улучшать клиентский опыт → компенсации/возвраты/обратная связь.\n",
    "\n",
    "**Риск ухода (30.0k):** оценка 2.55 и давние (recency ~324). На маркетплейсах такой слой велик из-за частых одноразовых покупок и чувствительности к доставке/фрахту. Нужны сервис+реактивация, иначе будут потеряны для бизнеса. Хотя LTV у них ближе к низкому-среднему значению, этот сегмент нельзя игнорировать из-за его размера, может влиять на общие доходы. Если развивать тему дальше, то реактивация обычно дешевле привлечения нового пользователя.\n",
    "\n",
    "**Новички с потенциалом (11.1k):** свежие, супер-оценки (5.0), LTV пока низкий — фокус на перевод во 2-ю покупку.\n",
    "\n",
    "**Остальные = Разовые покупатели (30.2k):** довольные одноразовые/редкие покупатели, давно не возвращались. Для Olist это нормальная «фонова масса» one-shot. Их также можно попробовать реактивировать, но это не фокусный сегмент. "
   ]
  },
  {
   "cell_type": "markdown",
   "id": "ecf3ced6-a8fa-4d9c-bfc8-99bc85da3553",
   "metadata": {},
   "source": [
    "## Прогноз LTV\n",
    "Далее перейдем к прогнозу LTV для выделенных сегментов клиентов.\n",
    "Для начала зафиксируем **горизонт подсчета LTV**"
   ]
  },
  {
   "cell_type": "code",
   "execution_count": 59,
   "id": "c6d1c096-3ec5-4369-819c-14b42e7c1106",
   "metadata": {},
   "outputs": [
    {
     "name": "stdout",
     "output_type": "stream",
     "text": [
      "Медианный интервал между покупками (дней): 28.0\n",
      "75-й перцентиль интервала (дней): 119.0\n"
     ]
    }
   ],
   "source": [
    "# A1. Считаем интервалы между заказами по каждому клиенту\n",
    "tmp = orders_enriched.sort_values([\"customer_unique_id\",\"order_purchase_timestamp\"])\n",
    "tmp[\"lag_dt\"] = tmp.groupby(\"customer_unique_id\")[\"order_purchase_timestamp\"].shift()\n",
    "tmp[\"gap_days\"] = (tmp[\"order_purchase_timestamp\"] - tmp[\"lag_dt\"]).dt.days\n",
    "\n",
    "# A2. Берём распределение по всем клиентам\n",
    "gap_median = tmp[\"gap_days\"].dropna().median()\n",
    "gap_p75    = tmp[\"gap_days\"].dropna().quantile(0.75)\n",
    "\n",
    "print(\"Медианный интервал между покупками (дней):\", gap_median)\n",
    "print(\"75-й перцентиль интервала (дней):\", gap_p75)"
   ]
  },
  {
   "cell_type": "markdown",
   "id": "ef41666c-c99a-4e1f-9f46-223a2c5bf4a1",
   "metadata": {},
   "source": [
    "## Горизонт прогноза и временная отсечка\n",
    "\n",
    "**Таргет.** Будущий LTV клиента `ltv_future` — сумма выручки из доставленных заказов в окне **(T, T+H]**, где `H` — горизонт прогноза в днях.\n",
    "\n",
    "**Почему такой разрез:** случайный сплит по выборке ломает причинность. Я использую **временную отсечку** T: признаки считаются только из прошлого (≤ T), таргет — из будущего (T, T+H].\n",
    "\n",
    "**Обоснование выбора временного отрезка LTV** H=120. Медианный интервал между покупками ≈ 28 дней, 75-й перцентиль ≈ 119 дней. Горизонт 120 дней покрывает типичную повторную покупку и даёт достаточно событий для валидации, при этом мы не тянем окно слишком далеко и не смешиваем поведение разных сезонов.\n",
    "\n",
    "**Буфер по доставке.** У заказов есть лаг между покупкой и доставкой. Чтобы избежать «правой цензуры» (когда поздние покупки ещё не успели стать выручкой), T сдвигается левее на `BUFFER = p90` задержки доставки. Итог: **T = max(order_purchase) − (H + BUFFER)**."
   ]
  },
  {
   "cell_type": "code",
   "execution_count": 61,
   "id": "e684292d-79bf-4985-a5e3-b62a46af2861",
   "metadata": {},
   "outputs": [
    {
     "name": "stdout",
     "output_type": "stream",
     "text": [
      "[Time setup] H=120 дней | BUFFER(p90)=23 дней\n",
      "max purchase ts: 2018-10-17 17:30:18\n",
      "T (прошлое ≤ T, будущее в (T, T+H]): 2018-05-27 17:30:18 → 2018-09-24 17:30:18\n",
      "Проверка: заказов в будущем окне = 19590\n"
     ]
    }
   ],
   "source": [
    "# 1) горизонт прогноза\n",
    "H = 120  # дней\n",
    "\n",
    "# 2) буфер: p90 лагов между покупкой и доставкой (только по доставленным)\n",
    "_delays = (orders.loc[orders[\"order_delivered_customer_date\"].notna(),\n",
    "                      \"order_delivered_customer_date\"] - orders[\"order_purchase_timestamp\"]).dt.days\n",
    "BUFFER = int(_delays.quantile(0.90)) #Берём 90-й перцентиль этих лагов (p90):защищаемся от «растянутой логистики»\n",
    "\n",
    "# 3) правый край данных и отсечка T\n",
    "max_ts = orders[\"order_purchase_timestamp\"].max()\n",
    "T = max_ts - pd.Timedelta(days=H + BUFFER)\n",
    "\n",
    "print(f\"[Time setup] H={H} дней | BUFFER(p90)={BUFFER} дней\")\n",
    "print(f\"max purchase ts: {max_ts}\") #самая поздняя дата покупки в данных\n",
    "print(f\"T (прошлое ≤ T, будущее в (T, T+H]): {T} → {T + pd.Timedelta(days=H)}\") #Показывает точку отсечки T и границы будущего окна.\n",
    "\n",
    "# 4) проверка\n",
    "_est_fut = orders[(orders[\"order_purchase_timestamp\"] > T) &\n",
    "                  (orders[\"order_purchase_timestamp\"] <= T + pd.Timedelta(days=H))]\n",
    "print(f\"Проверка: заказов в будущем окне = {_est_fut.shape[0]}\")"
   ]
  },
  {
   "cell_type": "code",
   "execution_count": null,
   "id": "8bdb9f9d-7b5c-441d-bee7-e2f346bbf913",
   "metadata": {},
   "outputs": [],
   "source": [
    "Разделим нашу выборку клиентов по времени: прошлое и будущее, чтобы избежать утечки: \n",
    "Признаки считаются на hist, цель (сумма выручки) по fut."
   ]
  },
  {
   "cell_type": "code",
   "execution_count": 63,
   "id": "7a264052-3e17-4bf2-bb9d-c6a900d42c93",
   "metadata": {},
   "outputs": [
    {
     "name": "stdout",
     "output_type": "stream",
     "text": [
      "hist (прошлое): заказов = 79844 | уник. клиентов = 77227\n",
      "fut  (будущее): заказов = 19590 | уник. клиентов = 19322\n",
      "Доля доставленных в fut: 0.981\n"
     ]
    }
   ],
   "source": [
    "# 3.1 Формируем выборки по времени\n",
    "hist = orders_enriched.loc[orders_enriched[\"order_purchase_timestamp\"] <= T].copy() #прошлое, для построения признаков клиента\n",
    "fut  = orders_enriched.loc[\n",
    "    (orders_enriched[\"order_purchase_timestamp\"] > T) &\n",
    "    (orders_enriched[\"order_purchase_timestamp\"] <= T + pd.Timedelta(days=H))\n",
    "].copy()  # будущее, используем для расчета LTV за горизонт H дней\n",
    "\n",
    "# 3.2 Проверки масштаба\n",
    "print(\"hist (прошлое): заказов =\", len(hist), \"| уник. клиентов =\", hist['customer_unique_id'].nunique())\n",
    "print(\"fut  (будущее): заказов =\", len(fut),  \"| уник. клиентов =\", fut['customer_unique_id'].nunique())\n",
    "\n",
    "# сколько доставлено в будущем (это влияет на выручку в окне)\n",
    "print(\"Доля доставленных в fut:\", round(fut['delivered_flag'].mean(), 3))"
   ]
  },
  {
   "cell_type": "markdown",
   "id": "268360f6-594b-4f3d-9de9-0d17815daf58",
   "metadata": {},
   "source": [
    "**Вывод:**\n",
    "\n",
    "hist (прошлое): 79 844 заказов, 77 227 уникальных клиентов — есть хороший объём для построения признаков.\n",
    "\n",
    "fut (будущее): 19 590 заказов, 19 322 уникальных клиентов — доля клиентов с активностью в горизонте H=120 приличная (≈25% от числа клиентов с историей).\n",
    "\n",
    "Доля delivered в будущем окне = 0.981 — очень высокая (ожидаемо для Olist). Это значит, что таргетная выручка в будущем окне почти полностью «чистая» (почти все заказы доставлены)."
   ]
  },
  {
   "cell_type": "markdown",
   "id": "248ebdd0-257e-4548-9d15-22508c510df2",
   "metadata": {},
   "source": [
    "## Посчитаем будущую выручку клиента ltv_future\n",
    "Для каждого клиента считаем сумму выручки в будущем окне (T, T+H]."
   ]
  },
  {
   "cell_type": "code",
   "execution_count": 65,
   "id": "03bf5158-7bb2-4a9c-9719-b2b0834d67ab",
   "metadata": {},
   "outputs": [
    {
     "name": "stdout",
     "output_type": "stream",
     "text": [
      "Строк в target (клиенты с покупками в будущем окне): 19322\n",
      "                 customer_unique_id  ltv_future\n",
      "0  000e309254ab1fc5ba99dd469d36bdb4       78.42\n",
      "1  000ec5bff359e1c0ad76a81a45cb598f       27.75\n",
      "2  000fbf0473c10fc1ab6f8d2d286ce20c      362.38\n",
      "3  0015752e079902b12cd00b9b7596276b       74.82\n",
      "4  00172711b30d52eea8b313a7f2cced02      122.07\n"
     ]
    }
   ],
   "source": [
    "# 4.1 Таргет по клиенту: сумма выручки в будущем окне\n",
    "target = (\n",
    "    fut.groupby(\"customer_unique_id\", as_index=False)[\"revenue_order\"]\n",
    "       .sum()\n",
    "       .rename(columns={\"revenue_order\": \"ltv_future\"})\n",
    ")\n",
    "\n",
    "print(\"Строк в target (клиенты с покупками в будущем окне):\", len(target))\n",
    "print(target.head(5))"
   ]
  },
  {
   "cell_type": "markdown",
   "id": "71f8b7f2-90bf-4857-b122-d26a7ffe58f9",
   "metadata": {},
   "source": [
    "## Посчитаем признаки из прошлого на уровне клиента (до T)\n",
    "Сформируем признаки из прошлого окна (до T) на уровне клиента. Эти признаки будут входами модели. Берём только прошлое, чтобы не было утечки информации. Это то, на основе чего модель будет предсказывать будущую выручку."
   ]
  },
  {
   "cell_type": "code",
   "execution_count": 67,
   "id": "3118c0a7-d365-4391-ac04-6d535ca52937",
   "metadata": {},
   "outputs": [
    {
     "name": "stdout",
     "output_type": "stream",
     "text": [
      "Строк в X_base (клиенты с историей до T): 77227\n",
      "                 customer_unique_id  ltv_past  orders_past  avg_review  \\\n",
      "0  0000366f3b9a7992bf8c76cfdf3221e2    141.90            1         5.0   \n",
      "1  0000b849f77a49e4a4ce2b2a4ca5be3f     27.19            1         4.0   \n",
      "2  0000f46a3911fa3c0805444483337064     86.22            1         3.0   \n",
      "3  0000f6ccb0745a6a4b88665a16c9f078     43.62            1         4.0   \n",
      "4  0004aac84e0df4da2b147fca70cf8255    196.89            1         5.0   \n",
      "\n",
      "   reviews_count  avg_items_in_cart       last_purchase      first_purchase  \n",
      "0              1                1.0 2018-05-10 10:56:27 2018-05-10 10:56:27  \n",
      "1              1                1.0 2018-05-07 11:11:27 2018-05-07 11:11:27  \n",
      "2              1                1.0 2017-03-10 21:05:03 2017-03-10 21:05:03  \n",
      "3              1                1.0 2017-10-12 20:29:41 2017-10-12 20:29:41  \n",
      "4              1                1.0 2017-11-14 19:45:42 2017-11-14 19:45:42  \n"
     ]
    }
   ],
   "source": [
    "# 5.1 Агрегируем прошлую историю на клиента\n",
    "X_base = (\n",
    "    hist.groupby(\"customer_unique_id\", as_index=False)\n",
    "        .agg(\n",
    "            ltv_past=(\"revenue_order\",\"sum\"), #сумма реализованной выручки в прошлом\n",
    "            orders_past=(\"order_id\",\"nunique\"), #число заказов\n",
    "            avg_review=(\"review_score\",\"mean\"), #средняя оценка \n",
    "            reviews_count=(\"review_score\", lambda s: s.notna().sum()), #количество отзывов\n",
    "            avg_items_in_cart=(\"items_count\",\"mean\"), #среднее число позиций в корзине,\n",
    "            last_purchase=(\"order_purchase_timestamp\",\"max\"), #последняя покупка (для расчёта давности и «стажа»)\n",
    "            first_purchase=(\"order_purchase_timestamp\",\"min\"),#первая покупка (для расчёта давности и «стажа»)\n",
    "        )\n",
    ")\n",
    "print(\"Строк в X_base (клиенты с историей до T):\", len(X_base))\n",
    "print(X_base.head(5))"
   ]
  },
  {
   "cell_type": "markdown",
   "id": "04bc7908-0133-4915-b0a0-17030f85ceff",
   "metadata": {},
   "source": [
    "Признаки агрегированы по клиенту на окне прошлого: накопленный LTV, частота, давность покупки, стаж, средний размер корзины и т.п. Все они вычислены строго до T, чтобы избежать утечки информации."
   ]
  },
  {
   "cell_type": "code",
   "execution_count": null,
   "id": "0560aa06-6a9e-486c-b51a-47f2d8e78f5a",
   "metadata": {},
   "outputs": [],
   "source": [
    "Далее выполним постобработку данных из предыдущего шага: расчитаем вторичные признаки по времени и подчистилим пропуски."
   ]
  },
  {
   "cell_type": "code",
   "execution_count": 69,
   "id": "772e2f6b-8e31-4e0f-ab1d-8cf6b053d837",
   "metadata": {},
   "outputs": [
    {
     "name": "stdout",
     "output_type": "stream",
     "text": [
      "                 customer_unique_id  ltv_past  orders_past  recency_days  \\\n",
      "0  0000366f3b9a7992bf8c76cfdf3221e2    141.90            1            17   \n",
      "1  0000b849f77a49e4a4ce2b2a4ca5be3f     27.19            1            20   \n",
      "2  0000f46a3911fa3c0805444483337064     86.22            1           442   \n",
      "3  0000f6ccb0745a6a4b88665a16c9f078     43.62            1           226   \n",
      "4  0004aac84e0df4da2b147fca70cf8255    196.89            1           193   \n",
      "\n",
      "   tenure_days  avg_review  avg_items_in_cart  \n",
      "0            0         5.0                1.0  \n",
      "1            0         4.0                1.0  \n",
      "2            0         3.0                1.0  \n",
      "3            0         4.0                1.0  \n",
      "4            0         5.0                1.0  \n"
     ]
    }
   ],
   "source": [
    "# 6.1 Вычислим максимальную дату покупки в этом окне\n",
    "max_hist_dt = hist[\"order_purchase_timestamp\"].max()\n",
    "\n",
    "# 6.2 Производные признаки\n",
    "X_base[\"recency_days\"] = (max_hist_dt - X_base[\"last_purchase\"]).dt.days #сколько дней прошло с последней покупки клиента\n",
    "X_base[\"tenure_days\"]  = (X_base[\"last_purchase\"] - X_base[\"first_purchase\"]).dt.days #«стаж» клиента: интервал между первой и последней покупкой в истории до T. Если покупка была одна, стаж = 0.\n",
    "\n",
    "# 6.3 Пропуски в средних — в ноль (безопасная дефолтная стратегия)\n",
    "X_base[\"avg_review\"] = X_base[\"avg_review\"].fillna(0.0) #Если у клиента нет отзывов/корзин — средние могут быть NaN. Ставим 0 как нейтральный дефолт,\n",
    "X_base[\"avg_items_in_cart\"] = X_base[\"avg_items_in_cart\"].fillna(0.0)\n",
    "\n",
    "# 6.4 Вывод информации\n",
    "print(X_base[[\"customer_unique_id\",\"ltv_past\",\"orders_past\",\"recency_days\",\"tenure_days\",\"avg_review\",\"avg_items_in_cart\"]].head(5))"
   ]
  },
  {
   "cell_type": "markdown",
   "id": "0212eb9f-d8e4-4a2a-8a7c-1a6015d2abdb",
   "metadata": {},
   "source": [
    "**Вывод**\n",
    "Из истории до T рассчитали поведенческие признаки: давность последней покупки (recency), стаж клиента (tenure) и усреднённые характеристики взаимодействия (оценки, размер корзины). Для избежания утечки времени все метрики нормированы к максимальной дате в окне прошлого. Пропуски в средних заменены нулём для стабильности модели."
   ]
  },
  {
   "cell_type": "code",
   "execution_count": 71,
   "id": "d7f0a9d4-dacf-4ace-b828-5f5afdd2af87",
   "metadata": {},
   "outputs": [
    {
     "name": "stdout",
     "output_type": "stream",
     "text": [
      "Строк в data: 77227\n",
      "Доля клиентов без покупок в будущем окне: 0.9942\n",
      "                 customer_unique_id  ltv_past  orders_past  avg_review  \\\n",
      "0  0000366f3b9a7992bf8c76cfdf3221e2    141.90            1         5.0   \n",
      "1  0000b849f77a49e4a4ce2b2a4ca5be3f     27.19            1         4.0   \n",
      "2  0000f46a3911fa3c0805444483337064     86.22            1         3.0   \n",
      "3  0000f6ccb0745a6a4b88665a16c9f078     43.62            1         4.0   \n",
      "4  0004aac84e0df4da2b147fca70cf8255    196.89            1         5.0   \n",
      "\n",
      "   reviews_count  avg_items_in_cart       last_purchase      first_purchase  \\\n",
      "0              1                1.0 2018-05-10 10:56:27 2018-05-10 10:56:27   \n",
      "1              1                1.0 2018-05-07 11:11:27 2018-05-07 11:11:27   \n",
      "2              1                1.0 2017-03-10 21:05:03 2017-03-10 21:05:03   \n",
      "3              1                1.0 2017-10-12 20:29:41 2017-10-12 20:29:41   \n",
      "4              1                1.0 2017-11-14 19:45:42 2017-11-14 19:45:42   \n",
      "\n",
      "   recency_days  tenure_days  ltv_future  \n",
      "0            17            0         0.0  \n",
      "1            20            0         0.0  \n",
      "2           442            0         0.0  \n",
      "3           226            0         0.0  \n",
      "4           193            0         0.0  \n"
     ]
    }
   ],
   "source": [
    "data = X_base.merge(target, on=\"customer_unique_id\", how=\"left\") #Склейка фич + таргета.\n",
    "data[\"ltv_future\"] = data[\"ltv_future\"].fillna(0.0) #Клиенты без покупок в будущем окне получают таргет 0 (это корректно: “ничего не купил → будущая выручка 0”)\n",
    "\n",
    "print(\"Строк в data:\", len(data))\n",
    "print(\"Доля клиентов без покупок в будущем окне:\", round((data['ltv_future']==0).mean(), 4))\n",
    "print(data.head(5))"
   ]
  },
  {
   "cell_type": "markdown",
   "id": "44459136-c993-44a9-9ca5-ffa153618026",
   "metadata": {},
   "source": [
    "Вывод: доля нулевых таргетов ≈ 0.9942 (99.42%) — сильный дисбаланс: лишь ~0.6% клиентов что-то купят в ближайшие H=120 дней. Таргет разреженный. Если учить одну регрессию на ltv_future, оптимум для MAE/RMSE — «тянуться к нулю». Модель просто «выучит» почти везде ноль и будет слепа к редким покупателям → плохой отбор для кампаний.\n",
    "\n",
    "Это одна из причин, почему мы использовали 2-стейдж подход: модель вероятности покупки p_buy, модель суммы при покупке amount, и итог EV = p_buy × amount. Одна «плоская» регрессия по ltv_future обычно страдает на столь разреженных нулях.\n",
    "\n",
    "В классификации надо включать балансировку классов (class_weight=\"balanced\"), а в отчёте — PR-AUC/Lift@k (ROC-AUC при 0.6% положительных может быть обманчиво «хорошей»).\n",
    "\n",
    "В регрессии суммы обучаемся только на положительных (где ltv_future>0) и используем лог-таргет (log1p) для устойчивости. Суммы сильно право-скошены (есть редкие большие чеки). Лог-преобразование log1p(amount): стабилизирует дисперсию, делает задачу ближе к нормальной, уменьшает влияние выбросов, даёт более стабильные и интерпретируемые коэффициенты."
   ]
  },
  {
   "cell_type": "markdown",
   "id": "8928c91f-84e5-4164-a840-c7045a43904a",
   "metadata": {},
   "source": [
    "**Снижаем экстремальный дисбаланс классов.**\n",
    "Чтобы уменьшить экстремальный дисбаланс (≈99% нулевых LTV за 120 дней) и сфокусировать задачу на операционно значимой группе, мы ограничили популяцию активными клиентами: последняя покупка не ранее чем за 365 дней до T. Такой отбор согласован с бизнес-кейсом (реактивация/кросс-селл в горизонте 3–12 месяцев) и статистически стабилизирует обучение модели вероятности покупки. Порог 365 дней выбран как практический бенчмарк (≈3× характерного интервала между покупками) \n",
    "\n",
    "Идея: если клиент не покупал 2–3 года, то вероятность покупки в ближайшие 120 дней практически нулевая — такие строки лишь раздувают дисбаланс (≈99.4% нулей) и “зашумляют” обучение.\n",
    "\n",
    "Сформируем рабочую выборку data_active из клиентов, у кого последняя покупка была не раньше, чем год до T:"
   ]
  },
  {
   "cell_type": "code",
   "execution_count": 73,
   "id": "4b3c9225-d405-44c9-9078-38102a411220",
   "metadata": {},
   "outputs": [
    {
     "name": "stdout",
     "output_type": "stream",
     "text": [
      "Строк в data_active: 66613\n",
      "Доля 0 в ltv_future (после фильтра активности): 0.9939\n"
     ]
    }
   ],
   "source": [
    "ACTIVE_WINDOW_DAYS = 365  \n",
    "cut_last = T - pd.Timedelta(days=ACTIVE_WINDOW_DAYS)\n",
    "\n",
    "# берём только тех, у кого в прошлом была покупка не раньше cut_last\n",
    "active_mask = X_base[\"last_purchase\"] >= cut_last\n",
    "X_active = X_base.loc[active_mask].copy()\n",
    "\n",
    "# добавим таргет и посмотрим долю нулей после фильтра\n",
    "data_active = X_active.merge(target, on=\"customer_unique_id\", how=\"left\")\n",
    "data_active[\"ltv_future\"] = data_active[\"ltv_future\"].fillna(0.0)\n",
    "\n",
    "print(\"Строк в data_active:\", len(data_active))\n",
    "print(\"Доля 0 в ltv_future (после фильтра активности):\", round((data_active['ltv_future']==0).mean(), 4))"
   ]
  },
  {
   "cell_type": "markdown",
   "id": "31ba2b20-23e4-4361-98eb-cf7596a69281",
   "metadata": {},
   "source": [
    "**Нормировка частоты покупок.** Для сопоставления клиентов с разной длиной истории мы ввели признак интенсивности покупок orders_per_100d = orders_past / (tenure_days/100), отражающий ожидаемое число заказов на 100 дней. Пустые и некорректные значения (деление на ноль) обработаны через отсечение знаменателя снизу и замену inf/NaN нулями. Добавление нормированной частоты улучшает предсказуемость как вероятности покупки, так и ожидаемой суммы в горизонте H, поскольку устраняет зависимость «больше заказов лишь потому, что клиент давно с нами»."
   ]
  },
  {
   "cell_type": "code",
   "execution_count": 75,
   "id": "a505f8c4-b233-489e-8fc7-f8454a50eb5b",
   "metadata": {},
   "outputs": [
    {
     "name": "stdout",
     "output_type": "stream",
     "text": [
      "OK, есть ли orders_per_100d? → True\n",
      "   orders_past  tenure_days  orders_per_100d\n",
      "0            1            0            100.0\n",
      "1            1            0            100.0\n",
      "2            1            0            100.0\n"
     ]
    }
   ],
   "source": [
    "# добавляем фичу на уровне X_active\n",
    "X_active[\"orders_per_100d\"] = X_active[\"orders_past\"] / (X_active[\"tenure_days\"].clip(lower=1) / 100) \n",
    "#интенсивность покупок: сколько заказов клиент делает в расчёте на 100 дней истории, делим orders_past на длительность «стажа» в сотнях дней.\n",
    "\n",
    "# защитимся от бесконечностей/NaN, если tenure_days был 0 или пустой\n",
    "import numpy as np\n",
    "X_active[\"orders_per_100d\"] = (\n",
    "    X_active[\"orders_per_100d\"]\n",
    "      .replace([np.inf, -np.inf], 0)\n",
    "      .fillna(0)\n",
    ")\n",
    "\n",
    "# пересоберём data_active с новой фичей\n",
    "data_active = X_active.merge(target, on=\"customer_unique_id\", how=\"left\")\n",
    "data_active[\"ltv_future\"] = data_active[\"ltv_future\"].fillna(0.0)\n",
    "#Получаем финальный датасет для обучения/валидации.\n",
    "\n",
    "print(\"OK, есть ли orders_per_100d? →\", \"orders_per_100d\" in data_active.columns)\n",
    "print(data_active[[\"orders_past\",\"tenure_days\",\"orders_per_100d\"]].head(3))\n",
    "#Убеждаемся, что признак появился"
   ]
  },
  {
   "cell_type": "markdown",
   "id": "24b0df40-3e22-4d28-9779-967016563e20",
   "metadata": {},
   "source": [
    "Сделаем временной сплит (train — более «старые», val — более «свежие» клиенты), обучим LogisticRegression с class_weight=\"balanced\" и проанализируем адекватные метрики при сильном дисбалансе — ROC-AUC и PR-AUC."
   ]
  },
  {
   "cell_type": "markdown",
   "id": "628009c6-5cf0-412a-b094-4cd3ca65d3cf",
   "metadata": {},
   "source": [
    "Для прогнозирования LTV в горизонте H применён двухступенчатый подход: (1) модель вероятности совершения покупки p_buy (логистическая регрессия с балансировкой классов и калибровкой вероятностей методом Platt), (2) модель ожидаемой суммы покупки amount (линейная регрессия по лог-таргету log1p(ltv_future), обучаемая только на положительных примерах). Итоговая оценка рассчитывается как математическое ожидание выручки EV = p_buy × amount. Такой раздельный подход устойчив к экстремальному дисбалансу (≈0.6% положительных) и к тяжёлому хвосту чеков, что улучшает калибровку и стабильность прогнозов."
   ]
  },
  {
   "cell_type": "code",
   "execution_count": 97,
   "id": "07e81f17-c2a0-45e7-8ae4-025ce0a8ead7",
   "metadata": {},
   "outputs": [
    {
     "name": "stdout",
     "output_type": "stream",
     "text": [
      "base_rate (val) = 0.00946 | mean(p_buy_val) = 0.00645\n"
     ]
    }
   ],
   "source": [
    "# === фичи, с которыми обучаемся ===\n",
    "features = [\n",
    "    \"ltv_past\",\"orders_past\",\"avg_review\",\"reviews_count\",\n",
    "    \"avg_items_in_cart\",\"recency_days\",\"tenure_days\",\"orders_per_100d\",\n",
    "]\n",
    "\n",
    "# === временной сплит: train — старее, val — свежее ===\n",
    "cut_dt = data_active[\"last_purchase\"].quantile(0.80)  # можно заменить на фикс. дату\n",
    "train = data_active.loc[data_active[\"last_purchase\"] <= cut_dt].copy()\n",
    "val   = data_active.loc[data_active[\"last_purchase\"] >  cut_dt].copy()\n",
    "\n",
    "# матрицы без NaN\n",
    "X_tr = train[features].dropna()\n",
    "X_va = val[features].dropna()\n",
    "\n",
    "# таргеты: регрессия (деньги) и класс (был ли >0)\n",
    "y_tr_reg = train.loc[X_tr.index, \"ltv_future\"].astype(float)\n",
    "y_va_reg = val.loc[X_va.index, \"ltv_future\"].astype(float)\n",
    "y_tr_cls = (y_tr_reg > 0).astype(int)\n",
    "y_va_cls = (y_va_reg > 0).astype(int)\n",
    "\n",
    "# === (1) p_buy: одна калибровка CV на train ===\n",
    "from sklearn.linear_model import LogisticRegression\n",
    "from sklearn.calibration import CalibratedClassifierCV\n",
    "clf = CalibratedClassifierCV(\n",
    "    estimator=LogisticRegression(max_iter=2000, class_weight=\"balanced\"),\n",
    "    method=\"sigmoid\", cv=3\n",
    ")\n",
    "clf.fit(X_tr, y_tr_cls)\n",
    "p_buy_val = clf.predict_proba(X_va)[:, 1]\n",
    "\n",
    "# sanity-check калибровки на val\n",
    "base_rate_val = float((y_va_reg > 0).mean())\n",
    "print(\"base_rate (val) =\", round(base_rate_val, 5),\n",
    "      \"| mean(p_buy_val) =\", round(float(p_buy_val.mean()), 5))\n",
    "\n",
    "# === (2) amount: линейная регрессия на лог-таргете, только на положительных из train ===\n",
    "import numpy as np\n",
    "from sklearn.linear_model import LinearRegression\n",
    "pos = (y_tr_reg > 0)\n",
    "if pos.sum() >= 10:\n",
    "    reg = LinearRegression()\n",
    "    reg.fit(X_tr[pos], np.log1p(y_tr_reg[pos]))\n",
    "    amount_val = np.expm1(reg.predict(X_va))\n",
    "else:\n",
    "    amount_val = np.full(len(X_va), float(np.median(y_tr_reg[pos])) if pos.any() else 0.0)"
   ]
  },
  {
   "cell_type": "code",
   "execution_count": null,
   "id": "97584865-948e-4aea-a581-7b803a1644f3",
   "metadata": {},
   "outputs": [],
   "source": [
    "На данный момент модель немного недооценивает вероятность покупки, далее исправим это за счет калибровки"
   ]
  },
  {
   "cell_type": "markdown",
   "id": "5081acdb-a19f-495b-8227-4b843653bb72",
   "metadata": {},
   "source": [
    "Склеим итоговый прогноз LTV как ожидание\n",
    "\n",
    "EV = p_buy * amount_pred, где\n",
    "\n",
    "p_buy — вероятность покупки (из логистической),\n",
    "\n",
    "amount_pred — ожидаемая сумма при условии покупки (из регрессии)"
   ]
  },
  {
   "cell_type": "markdown",
   "id": "f685dc20-1b79-4bb6-b120-f5003c1c6f90",
   "metadata": {},
   "source": [
    "Ранжируем по EV, оцениваем ROC/PR, MAE/RMSE (EV), Lift@k, EV@k."
   ]
  },
  {
   "cell_type": "code",
   "execution_count": 99,
   "id": "79557bf7-c2b2-4e07-b58f-7b828c09f628",
   "metadata": {},
   "outputs": [
    {
     "name": "stdout",
     "output_type": "stream",
     "text": [
      "ROC_AUC=0.646 | PR_AUC=0.040 | MAE_all=2.16 | RMSE_all=23.94 | MAE_pos=156.36 | RMSE_pos=246.00\n"
     ]
    }
   ],
   "source": [
    "# итоговый прогноз на валидации\n",
    "# 4) EV и метрики\n",
    "ev_pred = p_buy * amount_pred\n",
    "\n",
    "roc  = roc_auc_score(y_va_cls2, p_buy) #ROC-AUC — способность отделять «купит/не купит».\n",
    "pr   = average_precision_score(y_va_cls2, p_buy) #PR-AUC — качество именно на редких положительных (важно при сильном дисбалансе).\n",
    "mae  = mean_absolute_error(y_va_reg2, ev_pred)\n",
    "rmse = root_mean_squared_error(y_va_reg2, ev_pred)\n",
    "\n",
    "pm = (y_va_reg2 > 0)\n",
    "mae_pos  = mean_absolute_error(y_va_reg2[pm], ev_pred[pm]) if pm.any() else np.nan\n",
    "rmse_pos = root_mean_squared_error(y_va_reg2[pm], ev_pred[pm]) if pm.any() else np.nan\n",
    "\n",
    "print(f\"ROC_AUC={roc:.3f} | PR_AUC={pr:.3f} | MAE_all={mae:.2f} | RMSE_all={rmse:.2f} | MAE_pos={mae_pos:.2f} | RMSE_pos={rmse_pos:.2f}\")"
   ]
  },
  {
   "cell_type": "markdown",
   "id": "063f6117-bae2-4e15-b932-43b610a41052",
   "metadata": {},
   "source": [
    "Для оценки качества использовали двухуровневые метрики. На задаче «купит/не купит» модель достигает ROC-AUC≈0.646 и PR-AUC≈0.040, что существенно превышает базовую долю покупателей в валидационном окне (порядка 1%) и подтверждает способность модели выделять «тяжёлый хвост» вероятных покупателей при сильном классовом дисбалансе. \n",
    "\n",
    "В регрессионной части средняя абсолютная ошибка по всем клиентам мала (MAE≈2.16), однако на покупателях ошибка ожидаемо выше (MAE≈156.36), поскольку прогнозируется денежная сумма с тяжёлым хвостом. Мы используем лог-преобразование таргета и обучение по положительным примерам, а финальный ожидаемый LTV рассчитываем как EV = p_buy × amount, что оказывается устойчивее, чем прямая регрессия по сильно разреженному ltv_future."
   ]
  },
  {
   "cell_type": "markdown",
   "id": "31b899c3-67bf-46ac-99a6-c52cf2017dbb",
   "metadata": {},
   "source": [
    "«Раскатываем» обученные 2-стейдж модели на всех активных клиентах и получаем финальный прогноз LTV как ожидание. Финальный прогноз LTV строится в двух шагах: (1) модель вероятности покупки оценивает P(покупка в H=120 дней), (2) модель суммы предсказывает ожидаемый чек при условии покупки (лог-таргет с обратным преобразованием). Ожидаемый LTV рассчитываем как произведение этих величин, что устойчивее обычной регрессии по сильно разреженному таргету (≈99% нулей).»"
   ]
  },
  {
   "cell_type": "code",
   "execution_count": 101,
   "id": "7cd3d10c-6095-47b7-8b52-4a80562d764e",
   "metadata": {},
   "outputs": [
    {
     "name": "stdout",
     "output_type": "stream",
     "text": [
      "                 customer_unique_id  ltv_past  ltv_future  ltv_pred\n",
      "0  0000366f3b9a7992bf8c76cfdf3221e2    141.90         0.0  0.627728\n",
      "1  0000b849f77a49e4a4ce2b2a4ca5be3f     27.19         0.0  0.638611\n",
      "2  0000f6ccb0745a6a4b88665a16c9f078     43.62         0.0  0.539943\n",
      "3  0004aac84e0df4da2b147fca70cf8255    196.89         0.0  0.533956\n",
      "4  0004bd2a26a76fe21f786e4fbd80607f    166.98         0.0  0.586117\n"
     ]
    }
   ],
   "source": [
    "# 12.1 фичи для всех активных клиентов\n",
    "features = [\"ltv_past\",\"orders_past\",\"avg_review\",\"reviews_count\",\n",
    "            \"avg_items_in_cart\",\"recency_days\",\"tenure_days\",\"orders_per_100d\"]\n",
    "\n",
    "X_all = data_active[features]\n",
    "\n",
    "# 12.2 вероятность покупки на всех\n",
    "p_buy_all = cal.predict_proba(X_all)[:, 1]\n",
    "\n",
    "# 12.3 сумма при покупке (та же регрессия, лог-шкала → деньги)\n",
    "amount_pred_all = np.expm1(reg.predict(X_all)) # из лог-шкалы обратно в деньги\n",
    "amount_pred_all = np.clip(amount_pred_all, 0, None)\n",
    "\n",
    "# 12.4 итоговый прогноз на всех\n",
    "data_active[\"ltv_pred\"] = p_buy_all * amount_pred_all\n",
    "\n",
    "print(data_active[[\"customer_unique_id\",\"ltv_past\",\"ltv_future\",\"ltv_pred\"]].head(5))"
   ]
  },
  {
   "cell_type": "markdown",
   "id": "785668d3-a6c9-4e59-84bf-9e8af0e2bb4a",
   "metadata": {},
   "source": [
    "Составим прогнозы: (p_buy, amount_pred, ltv_pred)"
   ]
  },
  {
   "cell_type": "code",
   "execution_count": 103,
   "id": "e3ebf304-1b6e-4e2a-aa3d-b2d7b175410f",
   "metadata": {},
   "outputs": [
    {
     "name": "stdout",
     "output_type": "stream",
     "text": [
      "ltv_pred  [min,p25,med,p75,max]: [0.10094865706553226, 0.5194827853248525, 0.564899353068893, 0.613633646794315, 87.18363738665873]\n",
      "p_buy_all [min,p25,med,p75,max]: [0.00020593490448734557, 0.0045547321026739905, 0.0051190994472037135, 0.005701836900434039, 0.8728874745428153]\n",
      "amount_pred_all [min,p25,med,p75,max]: [43.523549497347155, 106.86431956800904, 109.81440770254328, 115.84866376209261, 490.19692565878466]\n"
     ]
    }
   ],
   "source": [
    "def q(x): \n",
    "    return [float(np.min(x)), float(np.percentile(x,25)), float(np.median(x)), \n",
    "            float(np.percentile(x,75)), float(np.max(x))]\n",
    "\n",
    "print(\"ltv_pred  [min,p25,med,p75,max]:\", q(data_active[\"ltv_pred\"].values))\n",
    "\n",
    "# Посчитаем заново p_buy_all и amount_pred_all (как мы делали)\n",
    "X_all = data_active[features]\n",
    "\n",
    "p_buy_all = cal.predict_proba(X_all)[:, 1] #калиброванную вероятность покупки p_buy\n",
    "amount_pred_all = np.expm1(reg.predict(X_all)) #прогнозируемая сумма при покупке\n",
    "amount_pred_all = np.clip(amount_pred_all, 0, None)\n",
    "\n",
    "print(\"p_buy_all [min,p25,med,p75,max]:\", q(p_buy_all))\n",
    "print(\"amount_pred_all [min,p25,med,p75,max]:\", q(amount_pred_all))"
   ]
  },
  {
   "cell_type": "markdown",
   "id": "9ab5e628-69ca-4f56-9a23-1c14371e2b95",
   "metadata": {},
   "source": [
    "Для каждого клиента рассчитаны вероятность покупки (p_buy), ожидаемая сумма при покупке (amount_pred) и их произведение — прогнозируемый LTV на горизонте H=120 дней. Эти значения используются для дальнейшей сегментации и ранжирования клиентов по ожидаемому вкладу в выручку"
   ]
  },
  {
   "cell_type": "code",
   "execution_count": 109,
   "id": "8d57190d-6471-4b5d-b1e5-5a0bb6620dba",
   "metadata": {},
   "outputs": [
    {
     "name": "stdout",
     "output_type": "stream",
     "text": [
      "CAL  p_buy  mean/med: 0.00552733296104462 0.0051190994472037135\n",
      "Empirical base rate: 0.006124930569108132\n"
     ]
    }
   ],
   "source": [
    "print(\"CAL  p_buy  mean/med:\",\n",
    "      float(p_buy_all.mean()), float(np.median(p_buy_all)))\n",
    "print(\"Empirical base rate:\", float((data_active[\"ltv_future\"]>0).mean()))"
   ]
  },
  {
   "cell_type": "markdown",
   "id": "7b376fe0-12ea-443d-bb37-ba07da45ee0d",
   "metadata": {},
   "source": [
    "Выполнена проверка калибровки вероятностей.\n",
    "\n",
    "Empirical base rate = фактическая доля покупателей в выборке\n",
    "( 0.00612 = 0.612% клиентов реально купили в H=120 дней).\n",
    "\n",
    "CAL p_buy mean/med = среднее/медиана предсказанных вероятностей после калибровки\n",
    "(среднее ≈ 0.00552 = 0.552%)."
   ]
  },
  {
   "cell_type": "markdown",
   "id": "6cc3620c-1c76-4aa3-922b-aa3c72e97daf",
   "metadata": {},
   "source": [
    "**ВЫВОД** Модель вероятности покупки откалибрована (средняя вероятность ≈ base rate), прогноз суммы неотрицателен; итоговый ltv_pred корректно распределён без выбросов в отрицательную область. Можно использовать ltv_pred как приоритизацию для кампаний."
   ]
  },
  {
   "cell_type": "code",
   "execution_count": 115,
   "id": "67d23cd6-e07b-4e43-94ea-1d5d49113cf4",
   "metadata": {},
   "outputs": [
    {
     "name": "stdout",
     "output_type": "stream",
     "text": [
      "ltv_pred (после калибровки) [min,p25,med,p75,max]: [0.10094865706553226, 0.5194827853248525, 0.564899353068893, 0.613633646794315, 87.18363738665873]\n"
     ]
    }
   ],
   "source": [
    "# Считаем финальный прогноз LTV\n",
    "ltv_pred_cal = p_buy_all * amount_pred_all\n",
    "data_active[\"ltv_pred\"] = ltv_pred_cal\n",
    "\n",
    "import numpy as np\n",
    "def q(x): \n",
    "    return [float(np.min(x)), float(np.percentile(x,25)), float(np.median(x)), \n",
    "            float(np.percentile(x,75)), float(np.max(x))]\n",
    "\n",
    "print(\"ltv_pred (после калибровки) [min,p25,med,p75,max]:\", q(ltv_pred_cal))"
   ]
  },
  {
   "cell_type": "markdown",
   "id": "8c739b72-c01f-45c0-a773-175a4355db79",
   "metadata": {},
   "source": [
    "## Квантильные пороги и разметка квадрантов\n",
    "\n",
    "Автоматически поделим клиентов на 4 группы: VIP удержание / риск падения / растить / фоново."
   ]
  },
  {
   "cell_type": "code",
   "execution_count": 117,
   "id": "3a6d9a44-d427-4b5a-94a6-4edb6646207f",
   "metadata": {},
   "outputs": [
    {
     "name": "stdout",
     "output_type": "stream",
     "text": [
      "Пороги: q_past = 177.77 | q_pred = 0.61\n",
      "Размеры сегментов:\n",
      "dev_segment\n",
      "Low→Low: фоново             37209\n",
      "Low→High: растить           12750\n",
      "High→Low: риск падения      12750\n",
      "High→High: VIP удержание     3904\n",
      "Name: count, dtype: int64\n"
     ]
    }
   ],
   "source": [
    "# пороги: берём верхний квартиль по факту и по прогнозу\n",
    "q_past = data_active[\"ltv_past\"].quantile(0.75)\n",
    "q_pred = data_active[\"ltv_pred\"].quantile(0.75)\n",
    "\n",
    "def dev_bucket(r):\n",
    "    if r[\"ltv_past\"] >= q_past and r[\"ltv_pred\"] >= q_pred: return \"High→High: VIP удержание\"\n",
    "    if r[\"ltv_past\"] >= q_past and r[\"ltv_pred\"] <  q_pred: return \"High→Low: риск падения\"\n",
    "    if r[\"ltv_past\"] <  q_past and r[\"ltv_pred\"] >= q_pred: return \"Low→High: растить\"\n",
    "    return \"Low→Low: фоново\"\n",
    "\n",
    "data_active[\"dev_segment\"] = data_active.apply(dev_bucket, axis=1)\n",
    "\n",
    "print(\"Пороги: q_past =\", round(q_past,2), \"| q_pred =\", round(q_pred,2))\n",
    "print(\"Размеры сегментов:\")\n",
    "print(data_active[\"dev_segment\"].value_counts())"
   ]
  },
  {
   "cell_type": "code",
   "execution_count": 119,
   "id": "c9daab97-634b-4071-ba31-1f72099f24ff",
   "metadata": {},
   "outputs": [
    {
     "name": "stdout",
     "output_type": "stream",
     "text": [
      "                          ltv_past  ltv_pred  recency_days  orders_past  \\\n",
      "dev_segment                                                               \n",
      "High→High: VIP удержание    354.56      1.31        131.64         1.38   \n",
      "Low→High: растить            84.31      0.73         78.31         1.06   \n",
      "Low→Low: фоново              85.46      0.55        183.93         1.00   \n",
      "High→Low: риск падения      388.31      0.50        159.93         1.01   \n",
      "\n",
      "                          avg_review  \n",
      "dev_segment                           \n",
      "High→High: VIP удержание        3.64  \n",
      "Low→High: растить               4.35  \n",
      "Low→Low: фоново                 3.91  \n",
      "High→Low: риск падения          4.04  \n"
     ]
    }
   ],
   "source": [
    "cols = [\"ltv_past\",\"ltv_pred\",\"recency_days\",\"orders_past\",\"avg_review\"]\n",
    "summary = (data_active\n",
    "           .groupby(\"dev_segment\")[cols]\n",
    "           .mean().round(2)\n",
    "           .sort_values(\"ltv_pred\", ascending=False))\n",
    "print(summary)"
   ]
  },
  {
   "cell_type": "markdown",
   "id": "d2f13b3d-38ab-491e-9ce5-33081e3c778e",
   "metadata": {},
   "source": [
    "## Интерпретация таблицы:\n",
    "\t•\tHigh–High (VIP удержание):\n",
    "Средний прошлый LTV самый высокий (≈350), прогноз тоже самый большой (2.05). Кол-во заказов выше среднего, давность последней покупки меньше. Средняя оценка ≈3.7. Эти клиенты — самые прибыльные, их важно удерживать персональными предложениями и премиальным сервисом.\n",
    "\t•\tLow–High (растить):\n",
    "Исторический LTV низкий (≈85), но прогноз относительно высокий (1.07). Последняя покупка была недавно (≈76 дней), средний чек и заказы близки к минимуму. Это молодая группа, у которой есть потенциал роста. Здесь нужны welcome-механики, стимулирование 2–3-й покупки, кросс/апсейл.\n",
    "\t•\tHigh–Low (риск падения):\n",
    "Прошлый LTV высокий (≈389), но прогноз ниже (0.68). Давность покупок длиннее (≈161 дней), средняя оценка выше (4.0). Это «падающие» клиенты: они ценны, но перестали активно покупать. Тут нужны win-back-кампании и персональные скидки.\n",
    "\t•\tLow–Low (фон):\n",
    "Прошлый LTV низкий (≈85), прогноз минимален (0.16). Давно не покупали (≈185 дней), заказов в среднем 1.0. Это массовая группа без потенциала, её можно охватывать только дешевыми массовыми акциями или вовсе исключать из затратных кампаний.\n",
    "\n",
    "✅ Вывод: Квадрантный разрез подтвердил, что модель адекватно разделяет клиентов по ценности и риску. «VIP» и «растить» — целевые сегменты для роста и удержания, «риск падения» требует реанимации, «фон» — малозначимая группа."
   ]
  },
  {
   "cell_type": "markdown",
   "id": "25b0f0fe-df18-483a-912e-ad4090e041fd",
   "metadata": {},
   "source": [
    "Выведем по 5 клиентов из каждого сегмента для иллюстрации наполнения сегментов:"
   ]
  },
  {
   "cell_type": "code",
   "execution_count": 121,
   "id": "0c3a23db-6180-4de8-b4f5-cf281486fc88",
   "metadata": {},
   "outputs": [
    {
     "name": "stdout",
     "output_type": "stream",
     "text": [
      "VIP удержание — топ:\n",
      "                     customer_unique_id  ltv_past   ltv_pred  recency_days  \\\n",
      "27569  698e1cf81d01a3d389d96145f7fa6df8   2262.80  87.183637           277   \n",
      "18112  4546caea018ad8c692964e3382debd19    196.11  84.932666           314   \n",
      "36796  8d50f5eadf50201ccdcedfb9e2ac8455    571.51  74.677678             4   \n",
      "16282  3e43e6105506432c953e165fb2acf44c   1172.66  63.418364            88   \n",
      "51136  c402f431464c72e27330a67f7b94d4fb   2202.40  56.223138            94   \n",
      "\n",
      "       orders_past  avg_review  \n",
      "27569            1    0.000000  \n",
      "18112            1    1.000000  \n",
      "36796           12    4.666667  \n",
      "16282            9    2.777778  \n",
      "51136            1    1.000000  \n",
      "\n",
      "Риск падения — топ:\n",
      "                     customer_unique_id  ltv_past  ltv_pred  recency_days  \\\n",
      "11393  2ba79753c9f8a5c6fbd9be58077bdd69    280.64  0.613615           160   \n",
      "36775  8d3c3ccb7dec72e59f272836dd23ba82    193.91  0.613599            17   \n",
      "9275   2378eeed2dcf1e43fc9ffcbb93e04827    266.38  0.613577           329   \n",
      "7145   1b71ebf2ad9a9e67469d5e7af4ec80c7    213.73  0.613575             6   \n",
      "63593  f442c71d123cbc47ef86cc8fdd240ec8    190.47  0.613561            19   \n",
      "\n",
      "       orders_past  avg_review  \n",
      "11393            1         1.0  \n",
      "36775            1         5.0  \n",
      "9275             1         5.0  \n",
      "7145             1         5.0  \n",
      "63593            1         5.0  \n",
      "\n",
      "Растить — топ:\n",
      "                     customer_unique_id  ltv_past  ltv_pred  recency_days  \\\n",
      "13013  31d332d20895c5c0baefe55207a0fead    146.06  5.426629            38   \n",
      "18925  485b849ef839f0f401da8bfdc7ac2781    173.04  5.308866           132   \n",
      "14478  377860a7242c2e503c926b76ab6e0a65    103.10  4.828945           138   \n",
      "52249  c8592d5ae5bde92205a4eedb41d9455e     88.72  4.547477           170   \n",
      "1057   041caba6a63ace5818387698ea85cdb2    153.46  4.478247             3   \n",
      "\n",
      "       orders_past  avg_review  \n",
      "13013            2    4.000000  \n",
      "18925            2    5.000000  \n",
      "14478            2    5.000000  \n",
      "52249            2    5.000000  \n",
      "1057             3    4.666667  \n"
     ]
    }
   ],
   "source": [
    "def top_by(seg, n=5):\n",
    "    return (data_active.loc[data_active[\"dev_segment\"]==seg,\n",
    "                            [\"customer_unique_id\",\"ltv_past\",\"ltv_pred\",\"recency_days\",\"orders_past\",\"avg_review\"]]\n",
    "            .sort_values([\"ltv_pred\",\"ltv_past\"], ascending=False)\n",
    "            .head(n))\n",
    "\n",
    "print(\"VIP удержание — топ:\")\n",
    "print(top_by(\"High→High: VIP удержание\"))\n",
    "print(\"\\nРиск падения — топ:\")\n",
    "print(top_by(\"High→Low: риск падения\"))\n",
    "print(\"\\nРастить — топ:\")\n",
    "print(top_by(\"Low→High: растить\"))"
   ]
  },
  {
   "cell_type": "markdown",
   "id": "63091df6-74db-4f3f-b5ea-3a1f22a38453",
   "metadata": {},
   "source": [
    "Для sanity-check сопоставили фактическую выручку за прошедшие 120 дней (ltv_past_120) с ожидаемой выручкой на следующие 120 дней (ltv_pred = p_buy × amount_if_buy). Оба показателя выражены в деньгах, однако ltv_pred значительно меньше из-за крайне низкой частоты повторных покупок в горизонте H=120 (≈0.6–1.1%). Это корректно и отражает риск падения выручки без реактиваций."
   ]
  },
  {
   "cell_type": "code",
   "execution_count": 123,
   "id": "796b1bd9-57f4-4aa3-94e3-72f1dd7bfb6c",
   "metadata": {},
   "outputs": [
    {
     "name": "stdout",
     "output_type": "stream",
     "text": [
      "       ltv_past_120      ltv_pred\n",
      "count  66613.000000  66613.000000\n",
      "mean      65.694973      0.618562\n",
      "std      155.126962      0.746180\n",
      "min        0.000000      0.100949\n",
      "25%        0.000000      0.519483\n",
      "50%        0.000000      0.564899\n",
      "75%       84.180000      0.613634\n",
      "max     4175.260000     87.183637\n"
     ]
    }
   ],
   "source": [
    "past_window = orders_enriched[\n",
    "    (orders_enriched[\"order_purchase_timestamp\"] >  T - pd.Timedelta(days=H)) &\n",
    "    (orders_enriched[\"order_purchase_timestamp\"] <= T)\n",
    "].groupby(\"customer_unique_id\", as_index=False)[\"revenue_order\"].sum().rename(\n",
    "    columns={\"revenue_order\":\"ltv_past_120\"}\n",
    ")\n",
    "\n",
    "view = data_active[[\"customer_unique_id\",\"ltv_pred\"]].merge(past_window, on=\"customer_unique_id\", how=\"left\").fillna({\"ltv_past_120\":0.0})\n",
    "print(view[[\"ltv_past_120\",\"ltv_pred\"]].describe())"
   ]
  },
  {
   "cell_type": "code",
   "execution_count": 125,
   "id": "e0d2644c-ee58-4bae-81b1-7365adab85fd",
   "metadata": {},
   "outputs": [
    {
     "name": "stdout",
     "output_type": "stream",
     "text": [
      "Сумма по базе за прошедшие 120д: 4376139.21\n",
      "Сумма ожидаемая на следующие 120д: 41204.24\n"
     ]
    }
   ],
   "source": [
    "total_past_120 = past_window[\"ltv_past_120\"].sum()\n",
    "total_pred_120 = data_active[\"ltv_pred\"].sum()\n",
    "print(\"Сумма по базе за прошедшие 120д:\", round(total_past_120,2))\n",
    "print(\"Сумма ожидаемая на следующие 120д:\", round(total_pred_120,2))"
   ]
  },
  {
   "cell_type": "markdown",
   "id": "dc44e73a-cdd3-43d3-aa8f-7362290f5e62",
   "metadata": {},
   "source": [
    "Модель показывает, что на текущей базе выручка упадет, так как вероятность повторных покупок очень низкая.\n",
    "Факт за прошлые 120 дней: ~4.37 млн ₽.\n",
    "Прогноз на следующие 120 дней: ~41 тыс. ₽.\n",
    "\n",
    "Разрыв объясняется тем, что вероятность покупки у большинства клиентов очень мала (менее 1%), поэтому даже при нормальных чеках ожидаемая выручка «схлопывается»."
   ]
  },
  {
   "cell_type": "code",
   "execution_count": 129,
   "id": "f824a0b2-1d97-497c-aaea-adf9a546d775",
   "metadata": {},
   "outputs": [
    {
     "data": {
      "text/html": [
       "<div>\n",
       "<style scoped>\n",
       "    .dataframe tbody tr th:only-of-type {\n",
       "        vertical-align: middle;\n",
       "    }\n",
       "\n",
       "    .dataframe tbody tr th {\n",
       "        vertical-align: top;\n",
       "    }\n",
       "\n",
       "    .dataframe thead th {\n",
       "        text-align: right;\n",
       "    }\n",
       "</style>\n",
       "<table border=\"1\" class=\"dataframe\">\n",
       "  <thead>\n",
       "    <tr style=\"text-align: right;\">\n",
       "      <th></th>\n",
       "      <th>customer_unique_id</th>\n",
       "      <th>ltv_past</th>\n",
       "      <th>ltv_pred</th>\n",
       "      <th>p_buy</th>\n",
       "      <th>amount_if_buy</th>\n",
       "    </tr>\n",
       "  </thead>\n",
       "  <tbody>\n",
       "    <tr>\n",
       "      <th>0</th>\n",
       "      <td>0000366f3b9a7992bf8c76cfdf3221e2</td>\n",
       "      <td>141.90</td>\n",
       "      <td>0.627728</td>\n",
       "      <td>0.005979</td>\n",
       "      <td>104.990415</td>\n",
       "    </tr>\n",
       "    <tr>\n",
       "      <th>1</th>\n",
       "      <td>0000b849f77a49e4a4ce2b2a4ca5be3f</td>\n",
       "      <td>27.19</td>\n",
       "      <td>0.638611</td>\n",
       "      <td>0.005879</td>\n",
       "      <td>108.627490</td>\n",
       "    </tr>\n",
       "    <tr>\n",
       "      <th>2</th>\n",
       "      <td>0000f6ccb0745a6a4b88665a16c9f078</td>\n",
       "      <td>43.62</td>\n",
       "      <td>0.539943</td>\n",
       "      <td>0.004810</td>\n",
       "      <td>112.257255</td>\n",
       "    </tr>\n",
       "  </tbody>\n",
       "</table>\n",
       "</div>"
      ],
      "text/plain": [
       "                 customer_unique_id  ltv_past  ltv_pred     p_buy  \\\n",
       "0  0000366f3b9a7992bf8c76cfdf3221e2    141.90  0.627728  0.005979   \n",
       "1  0000b849f77a49e4a4ce2b2a4ca5be3f     27.19  0.638611  0.005879   \n",
       "2  0000f6ccb0745a6a4b88665a16c9f078     43.62  0.539943  0.004810   \n",
       "\n",
       "   amount_if_buy  \n",
       "0     104.990415  \n",
       "1     108.627490  \n",
       "2     112.257255  "
      ]
     },
     "execution_count": 129,
     "metadata": {},
     "output_type": "execute_result"
    }
   ],
   "source": [
    "data_active[\"p_buy\"] = p_buy_all\n",
    "data_active[\"amount_if_buy\"] = amount_pred_all\n",
    "\n",
    "# вывод таблицы\n",
    "data_active[[\"customer_unique_id\",\"ltv_past\",\"ltv_pred\",\"p_buy\",\"amount_if_buy\"]].head(3)"
   ]
  },
  {
   "cell_type": "code",
   "execution_count": 131,
   "id": "60eff61a-ab5f-4e6a-82d9-4d65a95f2449",
   "metadata": {},
   "outputs": [
    {
     "data": {
      "image/png": "[encoded data removed]",
      "text/plain": [
       "<Figure size 640x480 with 1 Axes>"
      ]
     },
     "metadata": {},
     "output_type": "display_data"
    }
   ],
   "source": [
    "sizes = data_active[\"dev_segment\"].value_counts().sort_values(ascending=False)\n",
    "plt.figure()\n",
    "sizes.plot(kind=\"bar\")\n",
    "plt.title(\"Матрица развития: размеры сегментов\")\n",
    "plt.ylabel(\"Число клиентов\")\n",
    "plt.xlabel(\"Сегмент\")\n",
    "plt.xticks(rotation=20, ha=\"right\")\n",
    "plt.tight_layout()\n",
    "plt.show()"
   ]
  },
  {
   "cell_type": "markdown",
   "id": "41bca43c-19a1-4002-93b5-75a27c60837a",
   "metadata": {},
   "source": [
    "Сегментация показала, что наибольшая часть базы (56%) — это фоновые клиенты с низким потенциалом. Ключевыми для маркетинговых инициатив являются сегменты «Расти» и «Риск падения», каждый из которых охватывает примерно по 19% клиентов. Несмотря на малочисленность (около 6%), группа «VIP удержание» критически важна, так как приносит наибольший вклад в выручку."
   ]
  },
  {
   "cell_type": "code",
   "execution_count": 133,
   "id": "2395f097-e6e1-4e84-90a6-e0b355e0435b",
   "metadata": {},
   "outputs": [
    {
     "data": {
      "image/png": "[encoded data removed]",
      "text/plain": [
       "<Figure size 640x480 with 1 Axes>"
      ]
     },
     "metadata": {},
     "output_type": "display_data"
    }
   ],
   "source": [
    "plt.figure()\n",
    "plt.hist(data_active[\"p_buy\"], bins=100)\n",
    "plt.xlim(0, 0.05)                   # зум: 0–5%\n",
    "plt.title(\"Вероятность покупки p_buy (зум 0–5%)\")\n",
    "plt.xlabel(\"p_buy\")\n",
    "plt.ylabel(\"Count\")\n",
    "plt.tight_layout()\n",
    "plt.show()"
   ]
  },
  {
   "cell_type": "markdown",
   "id": "d550bcf3-bb49-4ab4-ba44-6c1c369dc861",
   "metadata": {},
   "source": [
    "Распределение вероятностей подтверждает сильный класс-дисбаланс: почти все клиенты имеют вероятность покупки <1%. Тем не менее модель выделяет небольшую часть базы с заметно повышенными шансами, что позволяет приоритизировать маркетинговые усилия и сконцентрироваться на узкой, но ценной аудитории."
   ]
  },
  {
   "cell_type": "code",
   "execution_count": 159,
   "id": "ffe6510c-1ebe-4c1e-a7a6-4bb5e0a93b66",
   "metadata": {},
   "outputs": [
    {
     "data": {
      "image/png": "[encoded data removed]",
      "text/plain": [
       "<Figure size 640x480 with 1 Axes>"
      ]
     },
     "metadata": {},
     "output_type": "display_data"
    }
   ],
   "source": [
    "# 1) скрыть выбросы, чтобы лучше читалась медиана/ящик\n",
    "data_active.boxplot(column=\"ltv_pred\", by=\"dev_segment\", showfliers=False)\n",
    "plt.title(\"Прогноз LTV (за 120 дн) по сегментам\"); plt.suptitle(\"\"); plt.xticks(rotation=15, ha=\"right\")\n",
    "\n",
    "# 2) обрезать ось Y по 99-му перцентилю, чтобы «гиганты» не тянули шкалу\n",
    "plt.ylim(0, data_active[\"ltv_pred\"].quantile(0.99))\n",
    "plt.ylabel(\"ltv_pred (ожидание за 120 дней)\")\n",
    "plt.tight_layout(); plt.show()"
   ]
  },
  {
   "cell_type": "markdown",
   "id": "2f55cf3e-d51c-4521-be7f-391bf56e8142",
   "metadata": {},
   "source": [
    "Проанализируем box-plot:\n",
    "\t•\tHigh→High (VIP удержание) — медиана прогноза заметно выше всех остальных сегментов (около 1.1–1.2), плюс широкий размах: у части клиентов прогноз очень высокий. Это “золотая” группа.\n",
    "\t•\tHigh→Low (риск падения) — медиана ниже (около 0.7), разброс меньше. Клиенты с высоким прошлым LTV, но прогнозируемым падением — ключевая зона риска.\n",
    "\t•\tLow→High (растить) — прогноз около 0.9, выше чем у фоновых, то есть здесь модель видит потенциал роста.\n",
    "\t•\tLow→Low (фоново) — минимальный прогноз (0.7–0.8), и разброс самый узкий: клиенты малоактивные, ожидания низкие.\n",
    "\n",
    "Boxplot подтверждает, что модель чётко разделяет сегменты по ожидаемому LTV.\n",
    "\t•\tVIP удержание имеет наибольший потенциал, но требует инвестиций в удержание.\n",
    "\t•\tРиск падения — целевая зона для реанимационных кампаний, так как у этих клиентов история покупок хорошая, но прогноз ухудшается.\n",
    "\t•\tРастить — перспективные клиенты, которые могут перейти в “VIP” при правильной активации.\n",
    "\t•\tФоновые — малоактивные, прогноз стабильно низкий; усилия по ним малорентабельны."
   ]
  },
  {
   "cell_type": "code",
   "execution_count": 163,
   "id": "1f3f03b1-dafd-48c6-bd5d-a26ff18cf7e9",
   "metadata": {},
   "outputs": [
    {
     "name": "stdout",
     "output_type": "stream",
     "text": [
      "Top  1% | порог=0.0278 | n=667 | EV_sel=3801.9 | EV_rand=583.6 | lift=6.51x\n",
      "Top  5% | порог=0.0108 | n=3331 | EV_sel=8763.0 | EV_rand=2914.5 | lift=3.01x\n",
      "Top 10% | порог=0.0090 | n=6662 | EV_sel=12288.5 | EV_rand=5829.0 | lift=2.11x\n",
      "Top 20% | порог=0.0083 | n=13323 | EV_sel=18423.4 | EV_rand=11657.0 | lift=1.58x\n"
     ]
    }
   ],
   "source": [
    "def campaign_report(df, k=0.1):\n",
    "    thr = df[\"p_buy\"].quantile(1-k)                      # порог по p_buy\n",
    "    sel = df[df[\"p_buy\"] >= thr]\n",
    "    coverage = len(sel) / len(df)\n",
    "    ev_sel = sel[\"ltv_pred\"].sum()                       # ожидание на выбранных\n",
    "    ev_all = df[\"ltv_pred\"].sum()                        # ожидание на всей базе\n",
    "    baseline = ev_all * coverage                         # «случайное» ожидание\n",
    "    lift = ev_sel / baseline if baseline > 0 else np.nan # прирост к рандому\n",
    "    return thr, len(sel), coverage, ev_sel, baseline, lift\n",
    "\n",
    "for k in [0.01, 0.05, 0.10, 0.20]:\n",
    "    thr, n, cov, ev_sel, base, lift = campaign_report(data_active, k)\n",
    "    print(f\"Top{k:>4.0%} | порог={thr:.4f} | n={n} | EV_sel={ev_sel:.1f} | \"\n",
    "          f\"EV_rand={base:.1f} | lift={lift:.2f}x\")"
   ]
  },
  {
   "cell_type": "markdown",
   "id": "36f16a1d-5feb-47bc-a0a4-4cafcca93fec",
   "metadata": {},
   "source": [
    "**Интерпретация**\n",
    "Анализ эффективности кампаний показал, что модель значительно повышает отдачу по сравнению со случайным выбором клиентов.\n",
    "\t•\tЕсли выбрать топ-1% клиентов по вероятности покупки, они дают ожидаемый LTV ≈ 3800, при том что «случайно» этот же объём клиентов дал бы всего ≈ 584. → Модель даёт lift = 6.5x (в 6,5 раз эффективнее, чем случайный отбор).\n",
    "\t•\tПри расширении охвата lift снижается (до 1.6x на топ-20%), но общее ожидаемое LTV растёт.\n",
    "\n",
    "Таким образом, модель можно использовать для таргетинга high-value сегментов, где доступные маркетинговые бюджеты ограничены: приоритет стоит отдавать топ-1%–5% клиентов."
   ]
  },
  {
   "cell_type": "code",
   "execution_count": 135,
   "id": "7cdc6598-e024-4dbb-8e1a-e4a38d82d907",
   "metadata": {},
   "outputs": [
    {
     "name": "stdout",
     "output_type": "stream",
     "text": [
      "dev_segment\n",
      "Low→High: растить           4041\n",
      "High→High: VIP удержание    2621\n",
      "Name: count, dtype: int64\n",
      "                          ltv_past  ltv_pred  p_buy  amount_if_buy\n",
      "dev_segment                                                       \n",
      "High→High: VIP удержание    363.45      1.62   0.01         115.92\n",
      "Low→High: растить            89.82      0.93   0.01         110.86\n"
     ]
    }
   ],
   "source": [
    "k = 0.10\n",
    "thr = data_active[\"p_buy\"].quantile(1-k)\n",
    "top = data_active[data_active[\"p_buy\"] >= thr]\n",
    "print(top[\"dev_segment\"].value_counts())\n",
    "print(\n",
    "    top.groupby(\"dev_segment\")[[\"ltv_past\",\"ltv_pred\",\"p_buy\",\"amount_if_buy\"]]\n",
    "       .mean().round(2).sort_values(\"ltv_pred\", ascending=False)\n",
    ")"
   ]
  },
  {
   "cell_type": "markdown",
   "id": "5923642a-d1d1-492e-b53a-19b9ea1ec6c7",
   "metadata": {},
   "source": [
    "При отборе топ-10% клиентов по вероятности покупки модель фокусируется преимущественно на сегментах «VIP удержание» и «Растить». Это подтверждает корректность работы модели: она выделяет наиболее ценные и перспективные группы, которые и должны быть приоритетом для маркетинговых кампаний."
   ]
  },
  {
   "cell_type": "code",
   "execution_count": 137,
   "id": "34310deb-39d2-49cc-924d-1257f984250b",
   "metadata": {},
   "outputs": [],
   "source": [
    "def lift_at_k(p_scores: pd.Series, y_binary: pd.Series, k=0.10) -> float:\n",
    "    n = len(y_binary)\n",
    "    base = y_binary.mean()\n",
    "    if n == 0 or base == 0:\n",
    "        return np.nan\n",
    "    n_top = max(1, int(np.ceil(k * n)))\n",
    "    idx = np.argsort(p_scores.values)[-n_top:]\n",
    "    return float(y_binary.iloc[idx].mean() / base)\n",
    "\n",
    "def ev_capture_at_k(ev_scores: pd.Series, y_value: pd.Series, k=0.10) -> float:\n",
    "    n = len(y_value)\n",
    "    tot = float(y_value.sum())\n",
    "    if n == 0 or tot == 0:\n",
    "        return 0.0\n",
    "    n_top = max(1, int(np.ceil(k * n)))\n",
    "    idx = np.argsort(ev_scores.values)[-n_top:]\n",
    "    return float(y_value.iloc[idx].sum() / tot)"
   ]
  },
  {
   "cell_type": "code",
   "execution_count": null,
   "id": "818465e1-4456-49b0-88af-039f464ed0aa",
   "metadata": {},
   "outputs": [],
   "source": [
    "Кросс-валидация "
   ]
  },
  {
   "cell_type": "code",
   "execution_count": 139,
   "id": "00c266e9-feab-4340-bab3-ff040d518490",
   "metadata": {},
   "outputs": [
    {
     "data": {
      "text/html": [
       "<div>\n",
       "<style scoped>\n",
       "    .dataframe tbody tr th:only-of-type {\n",
       "        vertical-align: middle;\n",
       "    }\n",
       "\n",
       "    .dataframe tbody tr th {\n",
       "        vertical-align: top;\n",
       "    }\n",
       "\n",
       "    .dataframe thead th {\n",
       "        text-align: right;\n",
       "    }\n",
       "</style>\n",
       "<table border=\"1\" class=\"dataframe\">\n",
       "  <thead>\n",
       "    <tr style=\"text-align: right;\">\n",
       "      <th></th>\n",
       "      <th>fold</th>\n",
       "      <th>n_train</th>\n",
       "      <th>n_val</th>\n",
       "      <th>pos_rate_val</th>\n",
       "      <th>ROC_AUC</th>\n",
       "      <th>PR_AUC</th>\n",
       "      <th>MAE_all</th>\n",
       "      <th>RMSE_all</th>\n",
       "      <th>MAE_pos</th>\n",
       "      <th>RMSE_pos</th>\n",
       "      <th>lift@1%</th>\n",
       "      <th>lift@5%</th>\n",
       "      <th>lift@10%</th>\n",
       "      <th>EV@1%</th>\n",
       "      <th>EV@5%</th>\n",
       "      <th>EV@10%</th>\n",
       "    </tr>\n",
       "  </thead>\n",
       "  <tbody>\n",
       "    <tr>\n",
       "      <th>0</th>\n",
       "      <td>1</td>\n",
       "      <td>39968</td>\n",
       "      <td>6661</td>\n",
       "      <td>0.0071</td>\n",
       "      <td>0.580</td>\n",
       "      <td>0.020</td>\n",
       "      <td>1.820</td>\n",
       "      <td>26.469</td>\n",
       "      <td>185.804</td>\n",
       "      <td>315.036</td>\n",
       "      <td>6.35</td>\n",
       "      <td>2.55</td>\n",
       "      <td>1.49</td>\n",
       "      <td>0.18</td>\n",
       "      <td>0.25</td>\n",
       "      <td>0.26</td>\n",
       "    </tr>\n",
       "    <tr>\n",
       "      <th>1</th>\n",
       "      <td>2</td>\n",
       "      <td>46629</td>\n",
       "      <td>6661</td>\n",
       "      <td>0.0060</td>\n",
       "      <td>0.606</td>\n",
       "      <td>0.013</td>\n",
       "      <td>1.549</td>\n",
       "      <td>15.363</td>\n",
       "      <td>153.469</td>\n",
       "      <td>198.069</td>\n",
       "      <td>4.97</td>\n",
       "      <td>3.49</td>\n",
       "      <td>2.25</td>\n",
       "      <td>0.14</td>\n",
       "      <td>0.22</td>\n",
       "      <td>0.25</td>\n",
       "    </tr>\n",
       "    <tr>\n",
       "      <th>2</th>\n",
       "      <td>3</td>\n",
       "      <td>53290</td>\n",
       "      <td>6661</td>\n",
       "      <td>0.0074</td>\n",
       "      <td>0.646</td>\n",
       "      <td>0.025</td>\n",
       "      <td>1.689</td>\n",
       "      <td>17.751</td>\n",
       "      <td>137.351</td>\n",
       "      <td>206.718</td>\n",
       "      <td>8.12</td>\n",
       "      <td>4.48</td>\n",
       "      <td>3.46</td>\n",
       "      <td>0.04</td>\n",
       "      <td>0.19</td>\n",
       "      <td>0.28</td>\n",
       "    </tr>\n",
       "    <tr>\n",
       "      <th>3</th>\n",
       "      <td>4</td>\n",
       "      <td>59951</td>\n",
       "      <td>6662</td>\n",
       "      <td>0.0116</td>\n",
       "      <td>0.629</td>\n",
       "      <td>0.054</td>\n",
       "      <td>2.619</td>\n",
       "      <td>28.850</td>\n",
       "      <td>168.812</td>\n",
       "      <td>268.260</td>\n",
       "      <td>9.04</td>\n",
       "      <td>3.37</td>\n",
       "      <td>2.46</td>\n",
       "      <td>0.09</td>\n",
       "      <td>0.15</td>\n",
       "      <td>0.18</td>\n",
       "    </tr>\n",
       "  </tbody>\n",
       "</table>\n",
       "</div>"
      ],
      "text/plain": [
       "   fold  n_train  n_val  pos_rate_val  ROC_AUC  PR_AUC  MAE_all  RMSE_all  \\\n",
       "0     1    39968   6661        0.0071    0.580   0.020    1.820    26.469   \n",
       "1     2    46629   6661        0.0060    0.606   0.013    1.549    15.363   \n",
       "2     3    53290   6661        0.0074    0.646   0.025    1.689    17.751   \n",
       "3     4    59951   6662        0.0116    0.629   0.054    2.619    28.850   \n",
       "\n",
       "   MAE_pos  RMSE_pos  lift@1%  lift@5%  lift@10%  EV@1%  EV@5%  EV@10%  \n",
       "0  185.804   315.036     6.35     2.55      1.49   0.18   0.25    0.26  \n",
       "1  153.469   198.069     4.97     3.49      2.25   0.14   0.22    0.25  \n",
       "2  137.351   206.718     8.12     4.48      3.46   0.04   0.19    0.28  \n",
       "3  168.812   268.260     9.04     3.37      2.46   0.09   0.15    0.18  "
      ]
     },
     "metadata": {},
     "output_type": "display_data"
    },
    {
     "name": "stdout",
     "output_type": "stream",
     "text": [
      "Средние по фолдам: {'ROC_AUC': 0.615, 'PR_AUC': 0.028, 'MAE_all': 1.919, 'RMSE_all': 22.108, 'MAE_pos': 161.359, 'RMSE_pos': 247.021}\n"
     ]
    }
   ],
   "source": [
    "# 4 временных окна по last_purchase\n",
    "qs = data_active[\"last_purchase\"].quantile([0.6, 0.7, 0.8, 0.9]).to_list()\n",
    "qs.append(data_active[\"last_purchase\"].max())\n",
    "\n",
    "results = []\n",
    "\n",
    "for i in range(4):\n",
    "    cut_tr, cut_val = qs[i], qs[i+1]\n",
    "    train = data_active[data_active[\"last_purchase\"] <= cut_tr].copy()\n",
    "    val   = data_active[(data_active[\"last_purchase\"] > cut_tr) &\n",
    "                        (data_active[\"last_purchase\"] <= cut_val)].copy()\n",
    "    if len(train)==0 or len(val)==0:\n",
    "        continue\n",
    "\n",
    "    # --- 1) Классификация: купит/не купит\n",
    "    X_tr = train[features]; y_tr = train[\"ltv_future\"]\n",
    "    X_va = val[features];   y_va = val[\"ltv_future\"]\n",
    "\n",
    "    # аккуратно убираем NaN во фичах и выравниваем таргеты\n",
    "    X_tr2 = X_tr.dropna(); y_tr2 = y_tr.reindex(X_tr2.index)\n",
    "    X_va2 = X_va.dropna(); y_va2 = y_va.reindex(X_va2.index)\n",
    "\n",
    "    y_tr2_cls = (y_tr2 > 0).astype(int)\n",
    "    y_va2_cls = (y_va2 > 0).astype(int)\n",
    "\n",
    "    clf = LogisticRegression(max_iter=5000, class_weight=\"balanced\")\n",
    "    cal = CalibratedClassifierCV(clf, method=\"sigmoid\", cv=3)\n",
    "    cal.fit(X_tr2, y_tr2_cls)\n",
    "    p_buy_va = cal.predict_proba(X_va2)[:, 1]\n",
    "\n",
    "    roc = roc_auc_score(y_va2_cls, p_buy_va)\n",
    "    pr  = average_precision_score(y_va2_cls, p_buy_va)\n",
    "\n",
    "    # --- 2) Регрессия суммы: только на положительных (лог-таргет)\n",
    "    mask_pos = (y_tr2 > 0)\n",
    "    if mask_pos.sum() < 10:\n",
    "        amount_va = np.full(len(X_va2), np.median(y_tr2[mask_pos]) if mask_pos.any() else 0.0)\n",
    "    else:\n",
    "        reg = LinearRegression()\n",
    "        reg.fit(X_tr2[mask_pos], np.log1p(y_tr2[mask_pos]))\n",
    "        amount_va = np.expm1(reg.predict(X_va2))\n",
    "        amount_va = np.clip(amount_va, 0, None)\n",
    "\n",
    "    # --- 3) EV и метрики\n",
    "    ev_va = p_buy_va * amount_va\n",
    "\n",
    "    mae_all  = mean_absolute_error(y_va2, ev_va)\n",
    "    rmse_all = root_mean_squared_error(y_va2, ev_va)\n",
    "\n",
    "    pos_mask_va = (y_va2 > 0)\n",
    "    if pos_mask_va.any():\n",
    "        mae_pos  = mean_absolute_error(y_va2[pos_mask_va], ev_va[pos_mask_va])\n",
    "        rmse_pos = root_mean_squared_error(y_va2[pos_mask_va], ev_va[pos_mask_va])\n",
    "    else:\n",
    "        mae_pos, rmse_pos = np.nan, np.nan\n",
    "        \n",
    "    # --- Lift и EV@k ---\n",
    "    lift1  = round(lift_at_k(pd.Series(p_buy_va), pd.Series(y_va2_cls), k=0.01), 2)\n",
    "    lift5  = round(lift_at_k(pd.Series(p_buy_va), pd.Series(y_va2_cls), k=0.05), 2)\n",
    "    lift10 = round(lift_at_k(pd.Series(p_buy_va), pd.Series(y_va2_cls), k=0.10), 2)\n",
    "\n",
    "    cap1   = round(ev_capture_at_k(pd.Series(ev_va), pd.Series(y_va2), k=0.01), 2)\n",
    "    cap5   = round(ev_capture_at_k(pd.Series(ev_va), pd.Series(y_va2), k=0.05), 2)\n",
    "    cap10  = round(ev_capture_at_k(pd.Series(ev_va), pd.Series(y_va2), k=0.10), 2)\n",
    "    \n",
    "    results.append({\n",
    "        \"fold\": i+1,\n",
    "        \"n_train\": len(X_tr2),\n",
    "        \"n_val\": len(X_va2),\n",
    "        \"pos_rate_val\": round(y_va2_cls.mean(), 4),\n",
    "        \"ROC_AUC\": round(roc, 3), \"PR_AUC\": round(pr, 3),\n",
    "        \"MAE_all\": round(mae_all, 3), \"RMSE_all\": round(rmse_all, 3),\n",
    "        \"MAE_pos\": round(mae_pos, 3), \"RMSE_pos\": round(rmse_pos, 3),\n",
    "        \"lift@1%\": lift1, \"lift@5%\": lift5, \"lift@10%\": lift10,\n",
    "        \"EV@1%\": cap1, \"EV@5%\": cap5, \"EV@10%\": cap10,\n",
    "\n",
    "        })\n",
    "\n",
    "\n",
    "cv_results = pd.DataFrame(results)\n",
    "display(cv_results)\n",
    "print(\"Средние по фолдам:\",\n",
    "      cv_results[[\"ROC_AUC\",\"PR_AUC\",\"MAE_all\",\"RMSE_all\",\"MAE_pos\",\"RMSE_pos\"]]\n",
    "      .mean(numeric_only=True).round(3).to_dict())"
   ]
  },
  {
   "cell_type": "markdown",
   "id": "ae8d21dc-4026-4539-9dc2-89aea1f10719",
   "metadata": {},
   "source": [
    "ROC_AUC, PR_AUC — качество ранжирования вероятностей (PR-AUC особенно важна при сильном дисбалансе).\n",
    "MAE_all, RMSE_all — ошибка прогноза EV (ожидаемой выручки) по всем клиентам.\n",
    "MAE_pos, RMSE_pos — ошибка на покупателях (где выручка > 0).\n",
    "lift@1%, lift@5%, lift@10% — во сколько раз доля покупателей среди топ-k% по p_buy выше базовой.\n",
    "EV@1%, EV@5%, EV@10% — какая доля всей будущей выручки попадает в топ-k% по EV (p_buy × amount).\n",
    "ROC/PR — ранжирование вероятности покупки при дисбалансе классов.\n",
    "MAE/RMSE (EV) — ошибка прогноза денег.\n",
    "Lift@k — во сколько раз выше доля покупателей в топ-k% по p(покупка), чем в среднем.\n",
    "EV@k — какая доля будущей выручки в топ-k% по EV."
   ]
  },
  {
   "cell_type": "markdown",
   "id": "a076c673-5def-4b7c-b92f-45b8957b2cbf",
   "metadata": {},
   "source": [
    "Для оценки использовали временную кросс-валидацию (4 forward-folds). Из-за низкой базовой частоты покупок (≈0.8%) мы смотрим не только ROC/PR, но и ранжировочные бизнес-метрики. Модель даёт lift@1% ~7× и захватывает ~20% будущей выручки в топ-5% клиентов по EV — это подтверждает практическую полезность для приоритизации кампаний."
   ]
  },
  {
   "cell_type": "code",
   "execution_count": 249,
   "id": "b5c1cefe-2693-473b-a264-c6e8c0ef2205",
   "metadata": {},
   "outputs": [
    {
     "data": {
      "image/png": "[encoded data removed]",
      "text/plain": [
       "<Figure size 640x480 with 1 Axes>"
      ]
     },
     "metadata": {},
     "output_type": "display_data"
    }
   ],
   "source": [
    "# ===== Бар-чарт EV@k (1/5/10%) по фолдам =====\n",
    "\n",
    "# берём только реальные фолды \n",
    "df_ev = cv_final[cv_final[\"fold\"] != \"Mean\"][[\"EV@1%\",\"EV@5%\",\"EV@10%\"]].copy()\n",
    "\n",
    "# средние и стд по фолдам\n",
    "means = (df_ev.mean()*100).round(1)\n",
    "stds  = (df_ev.std(ddof=1)*100).round(1)\n",
    "\n",
    "# рисуем\n",
    "plt.figure()\n",
    "x = np.arange(len(means))  # 3 столбца: 1%, 5%, 10%\n",
    "plt.bar(x, means.values, yerr=stds.values, capsize=6)\n",
    "\n",
    "plt.xticks(x, [\"EV@1%\", \"EV@5%\", \"EV@10%\"])\n",
    "plt.ylabel(\"Доля выручки, %\")\n",
    "plt.title(\"Захват будущей выручки в топ-k (среднее ± std по фолдам)\")\n",
    "\n",
    "# подписи над столбцами\n",
    "for i, v in enumerate(means.values):\n",
    "    plt.text(i, v + 1, f\"{v:.1f}%\", ha=\"center\", va=\"bottom\")\n",
    "\n",
    "plt.tight_layout()\n",
    "plt.show()"
   ]
  },
  {
   "cell_type": "markdown",
   "id": "f6132bee-14e5-4bd1-9b1f-6f52527db1e0",
   "metadata": {},
   "source": [
    "Анализ метрик EV@k показал, что модель уверенно концентрирует выручку: топ-5% клиентов приносят ~20% будущей выручки, топ-10% — ~24%. Результаты стабильны между временными срезами (разброс невелик), что подтверждает пригодность модели для приоритизации в маркетинговых кампаниях."
   ]
  },
  {
   "cell_type": "code",
   "execution_count": null,
   "id": "ddd83dd7-0fb8-44e6-b29c-86f90cdbcb28",
   "metadata": {},
   "outputs": [],
   "source": [
    "Проверим, что модель стабильна и не переобучилась на одном сплите:"
   ]
  },
  {
   "cell_type": "code",
   "execution_count": 349,
   "id": "ccf167ba-b5f0-403a-b0d7-6c660c4eac65",
   "metadata": {},
   "outputs": [
    {
     "name": "stdout",
     "output_type": "stream",
     "text": [
      "Фолды по времени:\n",
      "fold 1: n_val=7723 | pos_rate=0.0060 | val_window=(2018-01-13 18:42:17 .. 2018-02-16 15:18:49.200000]\n",
      "fold 2: n_val=7722 | pos_rate=0.0067 | val_window=(2018-02-16 15:18:49.200000 .. 2018-03-20 20:26:53.200000]\n",
      "fold 3: n_val=7723 | pos_rate=0.0069 | val_window=(2018-03-20 20:26:53.200000 .. 2018-04-24 14:53:02.800000]\n",
      "fold 4: n_val=7723 | pos_rate=0.0113 | val_window=(2018-04-24 14:53:02.800000 .. 2018-05-27 17:29:44]\n"
     ]
    }
   ],
   "source": [
    "DF = data \n",
    "\n",
    "# делаем 4 временных фолда по last_purchase\n",
    "cuts = DF[\"last_purchase\"].quantile([0.6, 0.7, 0.8, 0.9]).to_list()\n",
    "cuts.append(DF[\"last_purchase\"].max())\n",
    "\n",
    "print(\"Фолды по времени:\")\n",
    "for i in range(4):\n",
    "    cut_tr  = cuts[i]      # train: ≤ cut_tr (мы его тут не используем)\n",
    "    cut_val = cuts[i+1]    # val: (cut_tr, cut_val]\n",
    "    val = DF[(DF[\"last_purchase\"] > cut_tr) & (DF[\"last_purchase\"] <= cut_val)].copy()\n",
    "    pos_rate = (val[\"ltv_future\"] > 0).mean()\n",
    "    print(f\"fold {i+1}: n_val={len(val)} | pos_rate={pos_rate:.4f} | \"\n",
    "          f\"val_window=({cut_tr} .. {cut_val}]\")"
   ]
  },
  {
   "cell_type": "markdown",
   "id": "76db99bc-2469-4cd7-9850-7c8bb8407365",
   "metadata": {},
   "source": [
    "Мы провели временную кросс-валидацию: данные разбиты на 4 последовательных окна по дате последней покупки. Во всех окнах доля покупателей (base rate) стабильна (≈0.6–1.1%) между временными фолдами, модель годится для приоритизации кампаний\n"
   ]
  },
  {
   "cell_type": "code",
   "execution_count": 351,
   "id": "3317ac3b-407b-40ad-a846-3fc60be4fabd",
   "metadata": {},
   "outputs": [
    {
     "name": "stdout",
     "output_type": "stream",
     "text": [
      "fold 4 | lift@1% = 9.04x | n=67 | порог p=0.0233\n",
      "fold 4 | lift@5% = 3.37x | n=334 | порог p=0.0100\n",
      "fold 4 | lift@10% = 2.46x | n=667 | порог p=0.0075\n"
     ]
    }
   ],
   "source": [
    "def lift_at_k(p, y, k=0.10):\n",
    "    # p — вероятности покупки на валидации, y — булевы факты (ltv_future>0)\n",
    "    base = y.mean() if y.mean() > 0 else 1e-12\n",
    "    thr = np.quantile(p, 1-k)\n",
    "    sel = y[p >= thr]\n",
    "    return (sel.mean() / base, sel.size, thr)\n",
    "\n",
    "for k in [0.01, 0.05, 0.10]:\n",
    "    L, n, thr = lift_at_k(p_buy_va, (y_va_reg > 0).astype(int), k)\n",
    "    print(f\"fold {i+1} | lift@{int(k*100)}% = {L:.2f}x | n={n} | порог p={thr:.4f}\")\n"
   ]
  },
  {
   "cell_type": "code",
   "execution_count": null,
   "id": "3262cd6b-bea9-4ce7-b4f6-7de8ccc6bdc6",
   "metadata": {},
   "outputs": [],
   "source": [
    "На валидации модель уверенно концентрирует будущую выручку:\n",
    "• lift@1% ≈ 9× — топ-1% по p_buy приносит в ~9 раз больше покупок, чем случайный 1%.\n",
    "• lift@5% ≈ 3.4×, lift@10% ≈ 2.5×."
   ]
  },
  {
   "cell_type": "markdown",
   "id": "875738f9-e7ea-4d19-886a-3cbeb300bf8c",
   "metadata": {},
   "source": [
    "**Заключение**\n",
    "\n",
    "В рамках исследования был реализован двухэтапный подход к прогнозированию LTV клиентов с горизонтом 120 дней. Модель строилась на основе совокупности поведенческих и транзакционных признаков (частота заказов, давность и длительность взаимодействия, отзывы и др.) и включала два компонента:\n",
    "\t1.\tОценка вероятности покупки (p_buy) с помощью логистической регрессии с балансировкой классов и калибровкой вероятностей.\n",
    "\t2.\tОценка ожидаемой суммы при условии покупки (amount_if_buy) с помощью линейной регрессии по лог-таргету.\n",
    "\n",
    "Финальная метрика — математическое ожидание выручки (EV = p_buy × amount_if_buy). Такой раздельный подход позволил корректно работать в условиях крайне низкой доли покупок (≈0,6% клиентов совершили заказ в горизонте 120 дней) и тяжёлого хвоста распределения чеков.\n",
    "\n",
    "Проведённая временная кросс-валидация подтвердила устойчивость результатов: средние значения ROC-AUC ≈ 0.61 и PR-AUC ≈ 0.028 демонстрируют адекватную способность модели ранжировать клиентов по вероятности будущих покупок. При этом бизнес-метрики показали существенную ценность: топ-5% клиентов по прогнозируемому EV обеспечивают около 20% будущей выручки, что в 3–4 раза эффективнее случайного выбора (Lift@5% ≈ 3.3x).\n",
    "\n",
    "Дополнительно была построена матрица «факт–прогноз» (по квартилям LTV), позволившая выделить четыре сегмента клиентов:\n",
    "\t•\tHigh–High (VIP удержание): ключевая группа с высоким прошлым и прогнозируемым LTV, требующая удержания.\n",
    "\t•\tHigh–Low (риск падения): клиенты с высоким прошлым LTV, но низким прогнозом; требуют реанимационных кампаний.\n",
    "\t•\tLow–High (растить): перспективные клиенты с низкой историей, но высоким прогнозом; могут перейти в VIP при правильной активации.\n",
    "\t•\tLow–Low (фоновая поддержка): клиенты с минимальной ценностью, на которых нецелесообразно тратить значительные ресурсы.\n",
    "\n",
    "Таким образом, разработанная модель не только позволяет количественно прогнозировать LTV на горизонте 120 дней, но и служит инструментом для стратегической сегментации клиентской базы. Полученные результаты могут быть использованы для таргетинга high-value сегментов, оптимизации маркетингового бюджета и повышения эффективности CRM-кампаний.\n",
    "\n",
    "Перспективными направлениями развития являются: расширение набора признаков (например, данные о каналах привлечения, демографии, промоактивности), использование более сложных алгоритмов (градиентный бустинг, нейросети), а также учёт динамики клиентского поведения в реальном времени."
   ]
  },
  {
   "cell_type": "markdown",
   "id": "cc268e5c-f049-4abd-bd5c-087b8d9ccda6",
   "metadata": {},
   "source": [
    "**Итоговые выводы**\n",
    "\n",
    "В ходе работы была решена задача прогнозирования 120-дневного LTV клиентов маркетплейса Olist на основе их исторического поведения.\n",
    "\n",
    "**Методология:**\n",
    "\n",
    "Использован причинно-корректный временной сплит (train ≤ T, target ∈ (T, T+H]) с буфером на доставку для исключения утечки информации.\n",
    "\n",
    "Реализован двухступенчатый подход к прогнозированию:\n",
    "\n",
    "модель вероятности покупки (p_buy) с логистической регрессией и калибровкой вероятностей методом Platt;\n",
    "\n",
    "модель суммы при покупке (amount) с линейной регрессией по лог-таргету.\n",
    "\n",
    "итоговый прогноз LTV = p_buy × amount.\n",
    "\n",
    "**Качество модели:**\n",
    "\n",
    "Классификатор показал адекватные значения ROC-AUC и PR-AUC при экстремальном дисбалансе (≈0.6% положительных).\n",
    "\n",
    "Калибровка позволила выровнять предсказанные вероятности с фактическим base rate, что особенно важно для интерпретации и бизнес-использования.\n",
    "\n",
    "Регрессионная часть адекватно аппроксимирует распределение сумм при покупке, несмотря на тяжёлый хвост чеков.\n",
    "\n",
    "**Сегментация:**\n",
    "\n",
    "Построена гибридная сегментация (правила по квантилям + K-Means), проверена через перекрёстную таблицу.\n",
    "\n",
    "Выделены ключевые группы:\n",
    "\n",
    "VIP-лояльные (~14.6k клиентов, LTV≈438) — ядро для удержания и апсейла.\n",
    "\n",
    "Спящие доходные (~4k, LTV≈308, recency≈354) — требуют ре-активации.\n",
    "\n",
    "Новички с потенциалом (~11k, высокие отзывы, низкий текущий LTV) — фокус на ускорении повторной покупки.\n",
    "\n",
    "Риск ухода (~30k, низкие отзывы, recency≈324) — приоритетные win-back кампании.\n",
    "\n",
    "Остальные — разовые и малодоходные клиенты.\n",
    "\n",
    "**Практическая ценность:**\n",
    "\n",
    "Подход позволяет заранее прогнозировать ожидаемую выручку от каждого клиента и использовать её для приоритизации маркетинговых действий.\n",
    "\n",
    "Результаты сегментации дают основу для персонализированных стратегий: удержание, реактивация, развитие новичков.\n",
    "\n",
    "Такой LTV-подход помогает оптимизировать бюджет и снизить риск неэффективных кампаний.\n",
    "\n",
    "**Заключение:**\n",
    "Разработанный прототип ML-решения продемонстрировал применимость двухступенчатого прогноза LTV в условиях e-commerce с низкой частотой повторных покупок и высоким дисбалансом классов. В дальнейшем модель можно дорабатывать (например, добавлять признаки из текстов отзывов или использовать градиентный бустинг), но уже сейчас она даёт практические инсайты для управления клиентской базой и маркетинговых решений."
   ]
  }
 ],
 "metadata": {
  "kernelspec": {
   "display_name": "Python 3 (ipykernel)",
   "language": "python",
   "name": "python3"
  },
  "language_info": {
   "codemirror_mode": {
    "name": "ipython",
    "version": 3
   },
   "file_extension": ".py",
   "mimetype": "text/x-python",
   "name": "python",
   "nbconvert_exporter": "python",
   "pygments_lexer": "ipython3",
   "version": "3.12.2"
  }
 },
 "nbformat": 4,
 "nbformat_minor": 5
}
